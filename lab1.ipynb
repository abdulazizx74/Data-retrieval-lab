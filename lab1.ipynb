{
 "cells": [
  {
   "cell_type": "code",
   "execution_count": 34,
   "metadata": {},
   "outputs": [
    {
     "name": "stdout",
     "output_type": "stream",
     "text": [
      "Requirement already satisfied: numpy in c:\\users\\aziz\\anaconda3\\lib\\site-packages (1.18.5)\n",
      "Note: you may need to restart the kernel to use updated packages.\n"
     ]
    }
   ],
   "source": [
    "pip install numpy"
   ]
  },
  {
   "cell_type": "code",
   "execution_count": 35,
   "metadata": {},
   "outputs": [
    {
     "name": "stdout",
     "output_type": "stream",
     "text": [
      "Requirement already satisfied: Gensim in c:\\users\\aziz\\anaconda3\\lib\\site-packages (3.8.3)\n",
      "Requirement already satisfied: Cython==0.29.14 in c:\\users\\aziz\\anaconda3\\lib\\site-packages (from Gensim) (0.29.14)\n",
      "Requirement already satisfied: scipy>=0.18.1 in c:\\users\\aziz\\anaconda3\\lib\\site-packages (from Gensim) (1.5.0)\n",
      "Requirement already satisfied: smart-open>=1.8.1 in c:\\users\\aziz\\anaconda3\\lib\\site-packages (from Gensim) (2.1.1)\n",
      "Requirement already satisfied: six>=1.5.0 in c:\\users\\aziz\\anaconda3\\lib\\site-packages (from Gensim) (1.15.0)\n",
      "Requirement already satisfied: numpy>=1.11.3 in c:\\users\\aziz\\anaconda3\\lib\\site-packages (from Gensim) (1.18.5)\n",
      "Requirement already satisfied: boto3 in c:\\users\\aziz\\anaconda3\\lib\\site-packages (from smart-open>=1.8.1->Gensim) (1.14.61)\n",
      "Requirement already satisfied: requests in c:\\users\\aziz\\anaconda3\\lib\\site-packages (from smart-open>=1.8.1->Gensim) (2.24.0)\n",
      "Requirement already satisfied: boto in c:\\users\\aziz\\anaconda3\\lib\\site-packages (from smart-open>=1.8.1->Gensim) (2.49.0)\n",
      "Requirement already satisfied: botocore<1.18.0,>=1.17.61 in c:\\users\\aziz\\anaconda3\\lib\\site-packages (from boto3->smart-open>=1.8.1->Gensim) (1.17.61)\n",
      "Requirement already satisfied: jmespath<1.0.0,>=0.7.1 in c:\\users\\aziz\\anaconda3\\lib\\site-packages (from boto3->smart-open>=1.8.1->Gensim) (0.10.0)\n",
      "Requirement already satisfied: s3transfer<0.4.0,>=0.3.0 in c:\\users\\aziz\\anaconda3\\lib\\site-packages (from boto3->smart-open>=1.8.1->Gensim) (0.3.3)\n",
      "Requirement already satisfied: idna<3,>=2.5 in c:\\users\\aziz\\anaconda3\\lib\\site-packages (from requests->smart-open>=1.8.1->Gensim) (2.10)\n",
      "Requirement already satisfied: certifi>=2017.4.17 in c:\\users\\aziz\\anaconda3\\lib\\site-packages (from requests->smart-open>=1.8.1->Gensim) (2020.6.20)\n",
      "Requirement already satisfied: chardet<4,>=3.0.2 in c:\\users\\aziz\\anaconda3\\lib\\site-packages (from requests->smart-open>=1.8.1->Gensim) (3.0.4)\n",
      "Requirement already satisfied: urllib3!=1.25.0,!=1.25.1,<1.26,>=1.21.1 in c:\\users\\aziz\\anaconda3\\lib\\site-packages (from requests->smart-open>=1.8.1->Gensim) (1.25.9)\n",
      "Requirement already satisfied: docutils<0.16,>=0.10 in c:\\users\\aziz\\anaconda3\\lib\\site-packages (from botocore<1.18.0,>=1.17.61->boto3->smart-open>=1.8.1->Gensim) (0.15.2)\n",
      "Requirement already satisfied: python-dateutil<3.0.0,>=2.1 in c:\\users\\aziz\\anaconda3\\lib\\site-packages (from botocore<1.18.0,>=1.17.61->boto3->smart-open>=1.8.1->Gensim) (2.8.1)\n",
      "Note: you may need to restart the kernel to use updated packages.\n"
     ]
    }
   ],
   "source": [
    "pip install Gensim"
   ]
  },
  {
   "cell_type": "code",
   "execution_count": 36,
   "metadata": {},
   "outputs": [
    {
     "name": "stdout",
     "output_type": "stream",
     "text": [
      "Requirement already satisfied: smart_open in c:\\users\\aziz\\anaconda3\\lib\\site-packages (2.1.1)\n",
      "Requirement already satisfied: requests in c:\\users\\aziz\\anaconda3\\lib\\site-packages (from smart_open) (2.24.0)\n",
      "Requirement already satisfied: boto in c:\\users\\aziz\\anaconda3\\lib\\site-packages (from smart_open) (2.49.0)\n",
      "Requirement already satisfied: boto3 in c:\\users\\aziz\\anaconda3\\lib\\site-packages (from smart_open) (1.14.61)\n",
      "Requirement already satisfied: idna<3,>=2.5 in c:\\users\\aziz\\anaconda3\\lib\\site-packages (from requests->smart_open) (2.10)\n",
      "Requirement already satisfied: chardet<4,>=3.0.2 in c:\\users\\aziz\\anaconda3\\lib\\site-packages (from requests->smart_open) (3.0.4)\n",
      "Requirement already satisfied: certifi>=2017.4.17 in c:\\users\\aziz\\anaconda3\\lib\\site-packages (from requests->smart_open) (2020.6.20)\n",
      "Requirement already satisfied: urllib3!=1.25.0,!=1.25.1,<1.26,>=1.21.1 in c:\\users\\aziz\\anaconda3\\lib\\site-packages (from requests->smart_open) (1.25.9)\n",
      "Requirement already satisfied: jmespath<1.0.0,>=0.7.1 in c:\\users\\aziz\\anaconda3\\lib\\site-packages (from boto3->smart_open) (0.10.0)\n",
      "Requirement already satisfied: s3transfer<0.4.0,>=0.3.0 in c:\\users\\aziz\\anaconda3\\lib\\site-packages (from boto3->smart_open) (0.3.3)\n",
      "Requirement already satisfied: botocore<1.18.0,>=1.17.61 in c:\\users\\aziz\\anaconda3\\lib\\site-packages (from boto3->smart_open) (1.17.61)\n",
      "Requirement already satisfied: docutils<0.16,>=0.10 in c:\\users\\aziz\\anaconda3\\lib\\site-packages (from botocore<1.18.0,>=1.17.61->boto3->smart_open) (0.15.2)\n",
      "Requirement already satisfied: python-dateutil<3.0.0,>=2.1 in c:\\users\\aziz\\anaconda3\\lib\\site-packages (from botocore<1.18.0,>=1.17.61->boto3->smart_open) (2.8.1)\n",
      "Requirement already satisfied: six>=1.5 in c:\\users\\aziz\\anaconda3\\lib\\site-packages (from python-dateutil<3.0.0,>=2.1->botocore<1.18.0,>=1.17.61->boto3->smart_open) (1.15.0)\n",
      "Note: you may need to restart the kernel to use updated packages.\n"
     ]
    }
   ],
   "source": [
    "pip install smart_open"
   ]
  },
  {
   "cell_type": "markdown",
   "metadata": {},
   "source": [
    "# Exercise 1: Do you remember how to check python version and installed libraries? Write steps below:"
   ]
  },
  {
   "cell_type": "code",
   "execution_count": 37,
   "metadata": {},
   "outputs": [
    {
     "name": "stdout",
     "output_type": "stream",
     "text": [
      "3.8.3 (default, Jul  2 2020, 17:30:36) [MSC v.1916 64 bit (AMD64)]\n",
      "\n",
      " 3.8.3\n"
     ]
    }
   ],
   "source": [
    "import sys\n",
    "print(sys.version)\n",
    "from platform import python_version\n",
    "\n",
    "print('\\n',python_version())"
   ]
  },
  {
   "cell_type": "code",
   "execution_count": 38,
   "metadata": {},
   "outputs": [
    {
     "data": {
      "text/plain": [
       "'1.18.5'"
      ]
     },
     "execution_count": 38,
     "metadata": {},
     "output_type": "execute_result"
    }
   ],
   "source": [
    "import numpy\n",
    "numpy.version.version"
   ]
  },
  {
   "cell_type": "markdown",
   "metadata": {},
   "source": [
    "# Exercise 2: Tokenize the following sentence and write down the result you obtain!"
   ]
  },
  {
   "cell_type": "code",
   "execution_count": 39,
   "metadata": {},
   "outputs": [
    {
     "name": "stdout",
     "output_type": "stream",
     "text": [
      "3.8.3\n",
      "['Tokenization', 'is', 'the', 'process', 'of', 'breaking', 'down', 'text', 'document', 'apart', 'into', 'those', 'pieces']\n"
     ]
    }
   ],
   "source": [
    "Sentence= \"Tokenization is the process of breaking down text document apart into those pieces\"\n",
    "import gensim as gs\n",
    "print(gs.__version__)\n",
    "tokenizedWord = list(gs.utils.tokenize(Sentence))\n",
    "print(tokenizedWord)"
   ]
  },
  {
   "cell_type": "code",
   "execution_count": 40,
   "metadata": {},
   "outputs": [
    {
     "name": "stdout",
     "output_type": "stream",
     "text": [
      "Help on function tokenize in module gensim.utils:\n",
      "\n",
      "tokenize(text, lowercase=False, deacc=False, encoding='utf8', errors='strict', to_lower=False, lower=False)\n",
      "    Iteratively yield tokens as unicode strings, optionally removing accent marks and lowercasing it.\n",
      "    \n",
      "    Parameters\n",
      "    ----------\n",
      "    text : str or bytes\n",
      "        Input string.\n",
      "    deacc : bool, optional\n",
      "        Remove accentuation using :func:`~gensim.utils.deaccent`?\n",
      "    encoding : str, optional\n",
      "        Encoding of input string, used as parameter for :func:`~gensim.utils.to_unicode`.\n",
      "    errors : str, optional\n",
      "        Error handling behaviour, used as parameter for :func:`~gensim.utils.to_unicode`.\n",
      "    lowercase : bool, optional\n",
      "        Lowercase the input string?\n",
      "    to_lower : bool, optional\n",
      "        Same as `lowercase`. Convenience alias.\n",
      "    lower : bool, optional\n",
      "        Same as `lowercase`. Convenience alias.\n",
      "    \n",
      "    Yields\n",
      "    ------\n",
      "    str\n",
      "        Contiguous sequences of alphabetic characters (no digits!), using :func:`~gensim.utils.simple_tokenize`\n",
      "    \n",
      "    Examples\n",
      "    --------\n",
      "    .. sourcecode:: pycon\n",
      "    \n",
      "        >>> from gensim.utils import tokenize\n",
      "        >>> list(tokenize('Nic nemůže letět rychlostí vyšší, než 300 tisíc kilometrů za sekundu!', deacc=True))\n",
      "        [u'Nic', u'nemuze', u'letet', u'rychlosti', u'vyssi', u'nez', u'tisic', u'kilometru', u'za', u'sekundu']\n",
      "\n"
     ]
    }
   ],
   "source": [
    "help(gs.utils.tokenize)"
   ]
  },
  {
   "cell_type": "markdown",
   "metadata": {},
   "source": [
    "# Exercise 3: Count frequency of each word."
   ]
  },
  {
   "cell_type": "code",
   "execution_count": 41,
   "metadata": {},
   "outputs": [],
   "source": [
    "Sentence= \"In computer science, artificial intelligence (AI), sometimes called machine intelligence, is intelligence demonstrated by machines, in contrast to the natural intelligence displayed by humans and animals. Computer science defines AI research as the study of intelligent agents: any device that perceives its environment and takes actions that maximize its chance of successfully achieving its goals.” To answer the question above, let’s do the\"\n"
   ]
  },
  {
   "cell_type": "code",
   "execution_count": 42,
   "metadata": {},
   "outputs": [
    {
     "name": "stdout",
     "output_type": "stream",
     "text": [
      "[[(0, 1), (1, 1), (2, 1), (3, 1), (4, 1), (5, 1), (6, 1), (7, 1), (8, 1), (9, 2), (10, 1), (11, 1), (12, 1), (13, 1), (14, 1), (15, 2), (16, 1), (17, 1), (18, 1), (19, 1), (20, 1), (21, 1), (22, 1), (23, 1), (24, 1), (25, 1), (26, 1), (27, 1), (28, 1), (29, 3), (30, 1), (31, 1), (32, 1), (33, 3), (34, 1), (35, 1), (36, 1), (37, 1), (38, 1), (39, 2), (40, 1), (41, 1), (42, 1), (43, 1), (44, 1), (45, 1), (46, 1), (47, 1), (48, 1), (49, 2), (50, 4), (51, 1)]]\n"
     ]
    }
   ],
   "source": [
    "from gensim import corpora\n",
    "from pprint import pprint\n",
    "text = [\"\"\" In computer science, artificial intelligence (AI), sometimes called machine intelligence, is intelligence demonstrated by machines, in contrast to the natural intelligence displayed by humans and animals. Computer science defines AI research as the study of intelligent agents: any device that perceives its environment and takes actions that maximize its chance of successfully achieving its goals.” To answer the question above, let’s do the\"\"\"]\n",
    "tokens = [[token for token in sentence.split()] for sentence\n",
    "in text]\n",
    "gensim_dictionary = corpora.Dictionary()\n",
    "gensim_corpus = [gensim_dictionary.doc2bow(token,\n",
    "allow_update=True) for token in tokens]\n",
    "print(gensim_corpus)"
   ]
  },
  {
   "cell_type": "code",
   "execution_count": 43,
   "metadata": {},
   "outputs": [
    {
     "name": "stdout",
     "output_type": "stream",
     "text": [
      "Dictionary(52 unique tokens: ['(AI),', 'AI', 'Computer', 'In', 'To']...)\n"
     ]
    }
   ],
   "source": [
    "print(gensim_dictionary)"
   ]
  },
  {
   "cell_type": "code",
   "execution_count": 44,
   "metadata": {},
   "outputs": [
    {
     "name": "stdout",
     "output_type": "stream",
     "text": [
      "[[('(AI),', 1), ('AI', 1), ('Computer', 1), ('In', 1), ('To', 1), ('above,', 1), ('achieving', 1), ('actions', 1), ('agents:', 1), ('and', 2), ('animals.', 1), ('answer', 1), ('any', 1), ('artificial', 1), ('as', 1), ('by', 2), ('called', 1), ('chance', 1), ('computer', 1), ('contrast', 1), ('defines', 1), ('demonstrated', 1), ('device', 1), ('displayed', 1), ('do', 1), ('environment', 1), ('goals.”', 1), ('humans', 1), ('in', 1), ('intelligence', 3), ('intelligence,', 1), ('intelligent', 1), ('is', 1), ('its', 3), ('let’s', 1), ('machine', 1), ('machines,', 1), ('maximize', 1), ('natural', 1), ('of', 2), ('perceives', 1), ('question', 1), ('research', 1), ('science', 1), ('science,', 1), ('sometimes', 1), ('study', 1), ('successfully', 1), ('takes', 1), ('that', 2), ('the', 4), ('to', 1)]]\n"
     ]
    }
   ],
   "source": [
    "word_frequencies = [[(gensim_dictionary[id], frequence) for id, frequence in couple] for couple in gensim_corpus]\n",
    "print(word_frequencies)"
   ]
  },
  {
   "cell_type": "markdown",
   "metadata": {},
   "source": [
    "# What do you see?\n",
    "I see that there are some wards are repeating."
   ]
  },
  {
   "cell_type": "markdown",
   "metadata": {},
   "source": [
    "# Home exercise:\n",
    "Create a bag of words corpus by reading a text file.\n",
    "Hint: use genism.utils.simple_preprocess"
   ]
  },
  {
   "cell_type": "code",
   "execution_count": 45,
   "metadata": {},
   "outputs": [
    {
     "name": "stdout",
     "output_type": "stream",
     "text": [
      "[[('all', 1), ('already', 1), ('exists', 1), ('if', 1), ('in', 2), ('it', 1), ('iterates', 1), ('text', 1), ('the', 4), ('through', 1), ('word', 1), ('words', 1)], [('it', 1), ('the', 2), ('word', 1), ('corpus', 1), ('count', 1), ('for', 1), ('frequency', 1), ('increments', 1)]]\n"
     ]
    }
   ],
   "source": [
    "from gensim.utils import simple_preprocess\n",
    "from smart_open import smart_open\n",
    "import os\n",
    "\n",
    "tokens = [simple_preprocess(sentence, deacc=True) for sentence in open(r'C:\\Users\\Aziz\\Desktop\\file.txt', encoding='utf-8')]\n",
    "\n",
    "gensim_dictionary = corpora.Dictionary()\n",
    "gensim_corpus = [gensim_dictionary.doc2bow(token, allow_update=True) for token in tokens]\n",
    "word_frequencies = [[(gensim_dictionary[id], frequence) for id, frequence in couple] for couple in gensim_corpus]\n",
    "\n",
    "print(word_frequencies)"
   ]
  },
  {
   "cell_type": "code",
   "execution_count": 46,
   "metadata": {},
   "outputs": [
    {
     "name": "stdout",
     "output_type": "stream",
     "text": [
      "[[(0, 1), (1, 1), (2, 1), (3, 1), (4, 2), (5, 1), (6, 1), (7, 1), (8, 4), (9, 1), (10, 1), (11, 1)], [(5, 1), (8, 2), (10, 1), (12, 1), (13, 1), (14, 1), (15, 1), (16, 1)]]\n"
     ]
    }
   ],
   "source": [
    "import gensim\n",
    "from gensim import corpora\n",
    "from pprint import pprint\n",
    "from gensim.utils import simple_preprocess\n",
    "from smart_open import smart_open\n",
    "import os\n",
    "doc_tokenized = [\n",
    "   simple_preprocess(sentence, deacc=True) for sentence in open(r'C:\\Users\\Aziz\\Desktop\\file.txt', encoding='utf-8')\n",
    "]\n",
    "dictionary = corpora.Dictionary()\n",
    "BoW_corpus = [gensim_dictionary.doc2bow(token, allow_update=True) for token in tokens]\n",
    "print(BoW_corpus)"
   ]
  }
 ],
 "metadata": {
  "kernelspec": {
   "display_name": "Python 3",
   "language": "python",
   "name": "python3"
  },
  "language_info": {
   "codemirror_mode": {
    "name": "ipython",
    "version": 3
   },
   "file_extension": ".py",
   "mimetype": "text/x-python",
   "name": "python",
   "nbconvert_exporter": "python",
   "pygments_lexer": "ipython3",
   "version": "3.8.3"
  }
 },
 "nbformat": 4,
 "nbformat_minor": 4
}
