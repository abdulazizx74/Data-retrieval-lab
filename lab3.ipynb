{
 "cells": [
  {
   "cell_type": "markdown",
   "metadata": {},
   "source": [
    "# Do you remember what did we do that?\n",
    "yes we removed stop words from text or text in a directory and applied a lower and upper function and we learn about re.compile and re.escape functions and  learn about Normalization and we tokenize sentence and word and a lot more"
   ]
  },
  {
   "cell_type": "markdown",
   "metadata": {},
   "source": [
    "# Metacharacters"
   ]
  },
  {
   "cell_type": "code",
   "execution_count": 263,
   "metadata": {},
   "outputs": [
    {
     "name": "stdout",
     "output_type": "stream",
     "text": [
      "<re.Match object; span=(0, 31), match='my name is  abdulaziz hi  wolrd'>\n"
     ]
    }
   ],
   "source": [
    "import re\n",
    "\n",
    "txt = \"my name is  abdulaziz hi  wolrd\"\n",
    "x = re.search(\"^my.*wolrd$\", txt)\n",
    "print(x)"
   ]
  },
  {
   "cell_type": "code",
   "execution_count": 264,
   "metadata": {},
   "outputs": [
    {
     "name": "stdout",
     "output_type": "stream",
     "text": [
      "['m', 'a', 'm', 'e', 'i', 'a', 'b', 'd', 'l', 'a', 'i', 'h', 'i', 'l', 'd']\n"
     ]
    }
   ],
   "source": [
    "txt = \"my name is abdulaziz hi wolrd\"\n",
    "x = re.findall(\"[a-m]\", txt)\n",
    "print(x)"
   ]
  },
  {
   "cell_type": "code",
   "execution_count": 265,
   "metadata": {},
   "outputs": [
    {
     "name": "stdout",
     "output_type": "stream",
     "text": [
      "['1', '2']\n"
     ]
    }
   ],
   "source": [
    "txt = \"my name is abdulaziz hi wolrd 12\"\n",
    "\n",
    "x = re.findall(\"\\d\", txt)\n",
    "print(x)"
   ]
  },
  {
   "cell_type": "code",
   "execution_count": 266,
   "metadata": {},
   "outputs": [
    {
     "name": "stdout",
     "output_type": "stream",
     "text": [
      "['wolr']\n"
     ]
    }
   ],
   "source": [
    "x = re.findall(\"wo.r\", txt)\n",
    "print(x)"
   ]
  },
  {
   "cell_type": "code",
   "execution_count": 267,
   "metadata": {},
   "outputs": [
    {
     "name": "stdout",
     "output_type": "stream",
     "text": [
      "Yes, the string starts with 'my'\n"
     ]
    }
   ],
   "source": [
    "x = re.findall(\"^my\", txt)\n",
    "if x:\n",
    "    print(\"Yes, the string starts with 'my'\")\n",
    "else:\n",
    "    print(\"No match\")\n"
   ]
  },
  {
   "cell_type": "code",
   "execution_count": 268,
   "metadata": {},
   "outputs": [
    {
     "name": "stdout",
     "output_type": "stream",
     "text": [
      "Yes, the string ends with 'aziz'\n"
     ]
    }
   ],
   "source": [
    "txt = \"my name is abdulaziz hi wolrd aziz\"\n",
    "x = re.findall(\"aziz$\", txt)\n",
    "if x:\n",
    "    print(\"Yes, the string ends with 'aziz'\")\n",
    "else:\n",
    "    print(\"No match\")\n"
   ]
  },
  {
   "cell_type": "code",
   "execution_count": 269,
   "metadata": {},
   "outputs": [
    {
     "name": "stdout",
     "output_type": "stream",
     "text": [
      "['am', 'am']\n",
      "Yes, there is at least one match!\n"
     ]
    }
   ],
   "source": [
    "txt = \"my name is aziz am good\"\n",
    "x = re.findall(\"amx*\", txt)\n",
    "\n",
    "print(x)\n",
    "\n",
    "if x:\n",
    "    print(\"Yes, there is at least one match!\")\n",
    "else:\n",
    "    print(\"No match\")"
   ]
  },
  {
   "cell_type": "code",
   "execution_count": 270,
   "metadata": {},
   "outputs": [
    {
     "name": "stdout",
     "output_type": "stream",
     "text": [
      "['nam', 'nam']\n",
      "Yes, there is at least one match!\n"
     ]
    }
   ],
   "source": [
    "txt = \"my name is azz am good nam\"\n",
    "x = re.findall(\"nam+\", txt)\n",
    "print(x)\n",
    "\n",
    "if x:\n",
    "    print(\"Yes, there is at least one match!\")\n",
    "else:\n",
    "    print(\"No match\")\n"
   ]
  },
  {
   "cell_type": "code",
   "execution_count": 271,
   "metadata": {},
   "outputs": [
    {
     "name": "stdout",
     "output_type": "stream",
     "text": [
      "['azz']\n",
      "Yes, there is at least one match!\n"
     ]
    }
   ],
   "source": [
    "txt = \"my name is azz am good\"\n",
    "x = re.findall(\"az{2}\", txt)\n",
    "\n",
    "print(x)\n",
    "\n",
    "if x:\n",
    "    print(\"Yes, there is at least one match!\")\n",
    "else:\n",
    "    print(\"No match\")\n"
   ]
  },
  {
   "cell_type": "code",
   "execution_count": 272,
   "metadata": {},
   "outputs": [
    {
     "name": "stdout",
     "output_type": "stream",
     "text": [
      "['name', 'good', 'name']\n",
      "Yes, there is at least one match!\n"
     ]
    }
   ],
   "source": [
    "txt = \"my name is azz am good name\"\n",
    "x = re.findall(\"name|good\", txt)\n",
    "\n",
    "print(x)\n",
    "\n",
    "if x:\n",
    "    print(\"Yes, there is at least one match!\")\n",
    "else:\n",
    "    print(\"No match\")"
   ]
  },
  {
   "cell_type": "markdown",
   "metadata": {},
   "source": [
    "# Exercise 1: For a given sentence, demonstrate how to apply RegEx."
   ]
  },
  {
   "cell_type": "code",
   "execution_count": 273,
   "metadata": {},
   "outputs": [
    {
     "name": "stdout",
     "output_type": "stream",
     "text": [
      " in a string or \n"
     ]
    }
   ],
   "source": [
    "txt= 'Regular expression is a sequence of character(s) mainly used to find and replace patterns in a string or file'\n",
    "\n",
    "start = txt.find(\"patterns\")+ len(\"patterns\") \n",
    "end = txt.find(\"file\")\n",
    "substring = txt[start:end]\n",
    "print(substring)\n"
   ]
  },
  {
   "cell_type": "code",
   "execution_count": 274,
   "metadata": {},
   "outputs": [
    {
     "name": "stdout",
     "output_type": "stream",
     "text": [
      "patterns in a string or file\n"
     ]
    }
   ],
   "source": [
    "txt= 'Regular expression is a sequence of character(s) mainly used to find and replace patterns in a string or file'\n",
    "\n",
    "start = txt.find(\"patterns\")\n",
    "end = txt.find(\"file\")+ len(\"file\") \n",
    "substring = txt[start:end]\n",
    "print(substring)\n"
   ]
  },
  {
   "cell_type": "markdown",
   "metadata": {},
   "source": [
    "# Which method you used?\n",
    " we use the find and substring and len methods"
   ]
  },
  {
   "cell_type": "markdown",
   "metadata": {},
   "source": [
    "# Replacing words using regular expressions\n",
    "# Exercise 2: Demonstrate how can use the source code above to replace the sentences below: Sentence1=\"We'll see how to replace words using regular expressions such doesn't, can’t and so on\""
   ]
  },
  {
   "cell_type": "code",
   "execution_count": 275,
   "metadata": {},
   "outputs": [
    {
     "name": "stdout",
     "output_type": "stream",
     "text": [
      "We will see how to replace words using regular expressions such does not, can’t and so on\n"
     ]
    }
   ],
   "source": [
    "import re\n",
    "replacement_patterns = [\n",
    "(r'won\\'t', 'will not'),\n",
    "(r'can\\'t', 'cannot'),\n",
    "(r'i\\'m', 'i am'),\n",
    "(r'ain\\'t', 'is not'),\n",
    "(r'(\\w+)\\'ll', '\\g<1> will'),\n",
    "(r'(\\w+)n\\'t', '\\g<1> not'),\n",
    "(r'(\\w+)\\'ve', '\\g<1> have'),\n",
    "(r'(\\w+)\\'s', '\\g<1> is'),\n",
    "(r'(\\w+)\\'re', '\\g<1> are'),\n",
    "(r'(\\w+)\\'d', '\\g<1> would')] \n",
    "\n",
    "class RegexReplacer(object):\n",
    "    def __init__(self, patterns=replacement_patterns):\n",
    "        self.patterns = [(re.compile(regex), repl) for (regex, repl)in patterns]\n",
    "    def replace(self, text):\n",
    "        s = text\n",
    "        for (pattern, repl) in self.patterns:\n",
    "            (s, count) = re.subn(pattern, repl, s)\n",
    "        return s\n",
    "replacer= RegexReplacer()\n",
    "text=\"We'll see how to replace words using regular expressions such doesn't, can’t and so on\"\n",
    "print(replacer.replace(text))"
   ]
  },
  {
   "cell_type": "markdown",
   "metadata": {},
   "source": [
    "# Dealing with repeating characters\n",
    "# Exercise 3: Get a sentence from the user. If the sentence contains any repeating characters, apply class RepeatReplacer to remove them."
   ]
  },
  {
   "cell_type": "code",
   "execution_count": 276,
   "metadata": {},
   "outputs": [],
   "source": [
    "class RepeatReplacer(object):\n",
    "    def __init__(self):\n",
    "        self.repeat_regexp = re.compile(r'(\\w*)(\\w)\\2(\\w*)')\n",
    "        self.repl = r'\\1\\2\\3'\n",
    "    def replace(self, word):\n",
    "        repl_word = self.repeat_regexp.sub(self.repl, word)\n",
    "        if repl_word != word:\n",
    "            return self.replace(repl_word)\n",
    "        else:\n",
    "            return repl_word \n"
   ]
  },
  {
   "cell_type": "code",
   "execution_count": 277,
   "metadata": {},
   "outputs": [
    {
     "name": "stdout",
     "output_type": "stream",
     "text": [
      "Type : i like pythooon\n",
      "i like python\n"
     ]
    }
   ],
   "source": [
    "replacer= RepeatReplacer()\n",
    "text = input(\"Type : \")\n",
    "print(replacer.replace(text))"
   ]
  },
  {
   "cell_type": "markdown",
   "metadata": {},
   "source": [
    "# Home Task"
   ]
  },
  {
   "cell_type": "code",
   "execution_count": 278,
   "metadata": {},
   "outputs": [
    {
     "name": "stdout",
     "output_type": "stream",
     "text": [
      "Requirement already satisfied: beautifulsoup4 in c:\\users\\aziz\\anaconda3\\lib\\site-packages (4.9.1)\n",
      "Requirement already satisfied: soupsieve>1.2 in c:\\users\\aziz\\anaconda3\\lib\\site-packages (from beautifulsoup4) (2.0.1)\n"
     ]
    }
   ],
   "source": [
    "!pip3 install beautifulsoup4"
   ]
  },
  {
   "cell_type": "code",
   "execution_count": 279,
   "metadata": {},
   "outputs": [],
   "source": [
    "from bs4 import BeautifulSoup\n",
    "from bs4.element import Comment\n",
    "import urllib.request"
   ]
  },
  {
   "cell_type": "code",
   "execution_count": 280,
   "metadata": {},
   "outputs": [],
   "source": [
    "# here we drop what we dont want\n",
    "def tag_visible(element):\n",
    "    if element.parent.name in ['style', 'script', 'head', 'title', 'meta', '[document]']:\n",
    "        return False\n",
    "    if isinstance(element, Comment):\n",
    "        return False\n",
    "    return True\n",
    "\n",
    "# here we get the text frim the web page\n",
    "def text_from_html(body):\n",
    "    soup = BeautifulSoup(body, 'html.parser')\n",
    "    texts = soup.findAll(text=True)\n",
    "    # call the function tag_visible\n",
    "    visible_texts = filter(tag_visible, texts)  \n",
    "    return u\" \".join(t.strip() for t in visible_texts)\n",
    "\n",
    "html = urllib.request.urlopen('https://en.wikipedia.org/wiki/Joseph_A._Lopez').read()"
   ]
  },
  {
   "cell_type": "code",
   "execution_count": 281,
   "metadata": {},
   "outputs": [
    {
     "name": "stdout",
     "output_type": "stream",
     "text": [
      "          Joseph A. Lopez   From Wikipedia, the free encyclopedia     Jump to navigation  Jump to search  Mexican Jesuit priest    For the Spanish cyclist, see José Antonio López .  The Reverend Joseph A. Lopez S.J. Lopez wearing a Spanish biretta Acting President of Georgetown College In office January 1, 1840 – May 1, 1840 Preceded by William McSherry Succeeded by James A. Ryder  Personal details Born José Antonio López ( 1779-10-04 ) October 4, 1779 Cotija, Michoacán , New Spain Died October 5, 1841 (1841-10-05) (aged 62) St. Inigoes, Maryland , U.S. Resting place St. Ignatius Church Alma mater Colegio de San Nicolás Royal and Pontifical University of Mexico  Joseph Anton Lopez , S.J. (born José Antonio López ; October 4, 1779 – October 5, 1841) [a] was a Mexican Catholic priest and Jesuit . Born in Michoacán , he studied canon law at the Colegio de San Nicolás and the Royal and Pontifical University of Mexico . He became acquainted with the future Empress Ana María Huarte and was made chaplain to the future imperial family. He was later put in charge of the education of all the princes in Mexico. Lopez was a close ally of Emperor Agustín de Iturbide , residing in Madrid for four years as his attorney and political informant, and accompanying him during his exile to Italy and England. Following Iturbide's execution in 1824, Lopez moved to the United States with the exiled Empress Ana María and her children and settled in Washington, D.C. He became the chaplain to the Georgetown Visitation Monastery and entered the Society of Jesus in 1833 working also as a novice and minister at Georgetown College . When the president of Georgetown College , William McSherry , died, Lopez became acting president in 1840, making him the first Latin American president of a university in the United States. As an educator, he garnered a reputation as a strict disciplinarian. Just several months into his presidency, he fell ill and was sent to recuperate in St. Inigoes, Maryland ; he died there in 1841.  Contents   1  Early life  2  Chaplain to the Iturbides  3  Move to the United States   3.1  Georgetown College    4  Notes  5  References   5.1  Citations  5.2  Sources    6  External links    Early life [ edit ]  José Antonio López was born on October 4, 1779, in Cotija , Michoacán , in New Spain , located today in Mexico. [2] Born to a family of ranchers, [1] he had a distinguished Spanish Mexican lineage. [3] López attended first the Colegio de San Nicolás , and then the Royal and Pontifical University of Mexico , where he received a bachelor's degree in canon law . He was then put in charge of the local church in Peribán , Michoacán. Later in life, López related that when the first leader of the Mexican War of Independence , Miguel Hidalgo , was traveling through Michoacán in 1810, López unsuccessfully tried to arrest him, and then fled to Valladolid . There, he became acquainted with Ana María Huarte , the wife of the future Emperor of Mexico , Agustín de Iturbide . As a result of his familiarity with Huarte, López was appointed chaplain to Iturbide's counter-revolutionary army, and later the interim priest in Tingüindín , Michoacán. [1]   Chaplain to the Iturbides [ edit ]  When Iturbide was relieved of command by the Viceroy of New Spain in 1816, López traveled to Madrid the following year to defend him as his attorney. Remaining in Spain for several years, López kept Iturbide informed of political events in Madrid, including the early discord between King Ferdinand  VII and the liberals, which led to an uprising and the Liberal Triennium . In May 1821, López returned to Mexico to rejoin Iturbide during his push to establish Mexican independence. [1]  López became the chaplain to the Iturbide family and tutored one of the children, Agustín Jerónimo . Eventually, he was placed in charge of the education of all the princes in Mexico in July 1822 by the Minister of Justice and Ecclesiastical Affairs and wrote a curriculum titled Método y reglamento de instrucción de los príncipes mexicanos . Modeled on the educational curriculum of Spanish princes , this manual was not published due to military unrest. [1] His curriculum viewed favorably a strong monarchy and a prominent role for the imperial family in politics, putting it somewhat at odds with the newly established constitutional monarchy that shared political power with a representative legislature . [4]  Upon Iturbide's exile from Mexico in 1823, López accompanied the imperial entourage, including the emperor's eight children, to Livorno , Italy. [5] He followed them to England when King Ferdinand of Spain pressured the Grand Duke of Tuscany to expel Iturbide from his country. [6] In 1824, López sailed to Soto la Marina with Iturbide's unsuccessful junta to retake Mexico. [1]   Move to the United States [ edit ]   Upon settling in the United States, Lopez first became chaplain to the Georgetown Visitation Monastery .  When Iturbide was executed in Mexico in 1824, his widow, Empress Ana María Huarte, and children fled Mexico for the United States. [7] López accompanied them to New Orleans , where they resided for several months, before traveling north to Baltimore and then settling in the city of Georgetown in the District of Columbia . [b] [9] Huarte enrolled her daughters in the Georgetown Visitation Academy ; two of them later entered the Visitation Monastery attached to the academy as nuns . One of her sons married a woman residing in Georgetown, [7] and another son, Prince Salvador , enrolled as a student at Georgetown College . [10]  López was incardinated as a priest in the Archdiocese of Baltimore [c] and became the chaplain to the Georgetown Visitation Monastery. [7] He began anglicizing his name as Joseph Anton Lopez. [12] Though already a priest , he sought admission to the Society of Jesus and was received on December 10, 1833. [13] As a Jesuit novice , he worked at Georgetown College during his formation , [14] eventually becoming minister of the college. [7] He also became the librarian of the college . [1] His work at Georgetown required him to relinquish his role as chaplain to the Iturbides, who eventually moved to Philadelphia . [15]   Georgetown College [ edit ]  Following the death of William McSherry , Lopez was named president of Georgetown College on January 1, 1840, [3] in an acting capacity, [16] with the expectation that the provincial superior would soon appoint a permanent successor to relieve him of this post. [17] Upon his appointment, he became the first Latin American president of a university in the United States. [d] [1] He was known as a strict disciplinarian, both of his students and all Jesuits under his charge. [17] One notable event during his tenure was the establishment of a literary society alongside the existing Philodemic Society , known as the Philonomosian Society, which replaced the Phileleutherian Society. [17] His presidency lasted just several months, before he became ill, [18] and was succeeded by James A. Ryder on May 1, 1840. [19] He returned to the position of minister only briefly, [17] before being sent to St. Inigoes, Maryland , to recuperate. [7]  A week before his death, the Jesuits tending to Lopez feared that a coffin would not be ready for him in time; upon learning this, Lopez told them not to worry because he would not die until Saturday. True to his prediction, [18] on October 5, 1841, he died in St. Inigoes, where he was buried in Chapel Field. Eventually, all the graves there were reinterred in the cemetery adjoining St. Ignatius Church in the same village. [20]   Notes [ edit ]    ^  Some sources identify Lopez's first name as Josep. [1]   ^  Georgetown was a separately chartered city within the District of Columbia until the consolidation of the district's governments into a single entity, Washington, D.C. , with the Organic Act of 1871 . [8]   ^  The District of Columbia fell under the ecclesiastical jurisdiction of the Archdiocese of Baltimore until the erection of the Archdiocese of Washington in 1939. [11]   ^  Other sources describe Lopez as the first Hispanic president of an American university. [10]    References [ edit ]  Citations [ edit ]    ^ a  b  c  d  e  f  g  h  Ávila Rueda, Alfredo (March 12, 2019). \"Josep Lopez, ¿Quién fue Este Sacerdote que Estuvo a Punto de Capturar a Miguel Hidalgo?\" [Joseph Lopez, Who Was This Priest Who was About to Capture Miguel Hidalgo?]. Relatos e Historias en Mexico (in Spanish). Archived from the original on April 29, 2020 . Retrieved April 29, 2020 .   ^  Mendizabal 1972 , p. 21   ^ a  b  Easby-Smith 1907 , p. 75   ^  López 2012 , p. 178   ^  Bancroft 1885 , p. 804   ^  Bancroft 1885 , pp. 806–807   ^ a  b  c  d  e  Ryan 1904 , p. 16   ^  Dodd 1909 , p. 40   ^  Iturbide 1916 , p. 39   ^ a  b  Miranda, Manuel (November 7, 2000). \"Georgetown Has Rich Hispanic Heritage\" . The Hoya . Archived from the original on September 18, 2019 . Retrieved April 29, 2020 .   ^  \"Timeline for Archdiocese of Washington\" . Catholic Standard . Archdiocese of Washington. September 24, 2014. Archived from the original on August 31, 2018 . Retrieved August 30, 2018 .   ^  Devitt 1933 , p. 316   ^  Shea 1891 , p. 123   ^  Devitt 1933 , pp. 316–317   ^  Iturbide 1916 , p. 40   ^  Curran 1993 , p. 121   ^ a  b  c  d  Shea 1891 , p. 124   ^ a  b  Ryan 1904 , p. 17   ^  Senior Class of Georgetown University 1939 , p. 30   ^  Devitt 1931 , p. 225    Sources [ edit ]   Bancroft, Hubert Howe (1885). The Works of Hubert Howe Bancroft: History of Mexico, Vol. IV, 1804–1824 . XII . San Francisco: A. L. Bancroft & Company. OCLC  880110225 . Archived from the original on April 29, 2020 . Retrieved April 29, 2020 – via Google Books. CS1 maint: ref=harv ( link )  Curran, Robert Emmett (1993). The Bicentennial History of Georgetown University: From Academy to University, 1789–1889 . 1 . Washington, D.C.: Georgetown University Press . ISBN  978-0-87840-485-8 . Archived from the original on September 18, 2019 . Retrieved September 17, 2019 – via Google Books . CS1 maint: ref=harv ( link )  Devitt, Edward I. (June 1, 1931). \"History of the Maryland-New York Province: Part I, St. Inigoes, St. Mary's County, Maryland\"  (PDF) . Woodstock Letters . LX (2): 199–226. Archived  (PDF) from the original on April 28, 2020 . Retrieved April 28, 2020 – via Jesuit Archives. CS1 maint: ref=harv ( link )  Devitt, Edward I. (October 1, 1933). \"History of the Maryland-New York Province: IX, The Province in the Year 1833\"  (PDF) . Woodstock Letters . LXII (3): 309–348. Archived  (PDF) from the original on March 10, 2020 . Retrieved April 28, 2020 – via Jesuit Archives. CS1 maint: ref=harv ( link )  Dodd, Walter Farleigh (1909). The Government of the District of Columbia: A Study in Federal and Municipal Administration . Washington, D.C.: John Byrne & Co. p. 40 . OCLC  2485653 . Retrieved September 18, 2019 – via Internet Archive . CS1 maint: ref=harv ( link )  Easby-Smith, James Stanislaus (1907). Georgetown University in the District of Columbia, 1789–1907 . 1 . New York: Lewis Publishing Company. OCLC  633425041 . Archived from the original on December 18, 2018 . Retrieved January 30, 2019 – via Google Books . CS1 maint: ref=harv ( link )  Iturbide, Augustin de (March 1916). \"Don Agustin de Iturbide\". Records of the American Catholic Historical Society of Philadelphia . 27 (1): 16–44. JSTOR  44208365 . CS1 maint: ref=harv ( link )  Mendizabal, Rufo (1972). Catalogus Defunctorum: Numerical Range 0.1 through 1.600 (in Latin). Rome: Jesuit Archives: Central United States. pp. 1–29. Archived from the original on March 27, 2019 . Retrieved April 16, 2020 . CS1 maint: ref=harv ( link )  López, José Antonio (July–December 2012) [1822].  Ávila, Alfredo (ed.). \"Método y reglamento de instrucción de los príncipes mexicanos\" [Method and regulation of instruction of the Mexican princes]. Estudios de historia moderna y contemporánea de México (in Spanish). 44 : 175–194. Archived from the original on April 29, 2020 . Retrieved April 29, 2020 – via SciELO . CS1 maint: ref=harv ( link )  Ryan, John J. (May 1, 1904). \"Our Scholasticate – An Account of its Growth and History to the Opening of Woodstock, 1805–1869\"  (PDF) . Woodstock Letters . XXXIII (1): 16–17. Archived  (PDF) from the original on March 10, 2020 . Retrieved April 28, 2020 – via Jesuit Archives. CS1 maint: ref=harv ( link )  Senior Class of Georgetown University (1939).  Martin, Richard K. (ed.). Ye Domesday Booke  (PDF) . Washington, D.C. Archived  (PDF) from the original on February 13, 2017 . Retrieved January 30, 2019 – via Georgetown University Library . CS1 maint: ref=harv ( link )  Shea, John Gilmary (1891). \"Chapter XVIII: Father Joseph A. Lopez, S.J.\" . Memorial of the First Century of Georgetown College, D.C . 3 . Washington, D.C.: P. F. Collier . pp. 123–124. OCLC  960066298 . Archived from the original on January 30, 2019 . Retrieved January 30, 2019 – via Google Books . CS1 maint: ref=harv ( link )   External links [ edit ]     Wikimedia Commons has media related to Joseph A. Lopez .   ‹The template  Find a Grave is being considered for deletion .›  Joseph A. Lopez at Find a Grave    Academic offices   Preceded by William McSherry   Acting President of Georgetown College 1840  Succeeded by James A. Ryder    v t e Presidents of Georgetown University  Plunkett (1791–93)  Molyneux (1793–96)  Dubourg (1796–98)  L. Neale (1798–1806)  Molyneux (1806–08)  F. Neale (1809)  Matthews (1809)  F. Neale (1809–12)  Grassi (1812–17)  B. Fenwick (1817)  Kohlmann (1817–20)  E. Fenwick (1820–25)  B. Fenwick (1825)  Dubuisson (1825–26)  Feiner (1826–29)  Beschter (1829)  T. Mulledy (1829–37)  McSherry (1838–40)  Lopez (1840)  Ryder (1840–45)  S. Mulledy (1845)  T. Mulledy (1845–48)  Ryder (1848–51)  Stonestreet (1851–52)  Maguire (1853–58)  Early (1858–66)  Maguire (1866–70)  Early (1870–73)  P. Healy (1873–82)  Doonan (1882–88)  Richards (1888–98)  Whitney (1898–1901)  Daugherty (1901–05)  Buel (1905–08)  Himmel (1908–12)  Donlon (1912–18)  Creeden (1918–24)  Lyons (1924–28)  Nevils (1928–35)  O'Leary (1935–42)  Gorman (1942–49)  Guthrie (1949–52)  Bunn (1952–64)  Campbell (1964–69)  Henle (1969–76)  T. Healy (1976–89)  O'Donovan (1989–2001)  DeGioia (2001– )   Biography portal Catholicism portal Education portal Maryland portal Mexico portal United States portal        Retrieved from \" https://en.wikipedia.org/w/index.php?title=Joseph_A._Lopez&oldid=981759261 \"  Categories : 1779 births 1841 deaths People from Cotija de la Paz Mexican people of Spanish descent Royal and Pontifical University of Mexico alumni Catholic chaplains American chaplains 19th-century American Jesuits Mexican Jesuits Presidents of Georgetown University Hidden categories: CS1 Spanish-language sources (es) Articles with short description Short description matches Wikidata Use mdy dates from September 2019 Use American English from September 2019 All Wikipedia articles written in American English CS1 maint: ref=harv CS1 Latin-language sources (la) CS1: Julian–Gregorian uncertainty Commons category link is on Wikidata AC with 0 elements Featured articles        Navigation menu      Personal tools      Not logged in Talk Contributions Create account Log in        Namespaces      Article Talk        Variants              Views      Read Edit View history        More           Search                     Navigation      Main page Contents Current events Random article About Wikipedia Contact us Donate       Contribute      Help Learn to edit Community portal Recent changes Upload file       Tools      What links here Related changes Upload file Special pages Permanent link Page information Cite this page Wikidata item       Print/export      Download as PDF Printable version       In other projects      Wikimedia Commons       Languages      العربية  Edit links        This page was last edited on 4 October 2020, at 08:18 (UTC) .  Text is available under the Creative Commons Attribution-ShareAlike License ;\n",
      "additional terms may apply.  By using this site, you agree to the Terms of Use and Privacy Policy . Wikipedia® is a registered trademark of the Wikimedia Foundation, Inc. , a non-profit organization.    Privacy policy  About Wikipedia  Disclaimers  Contact Wikipedia  Mobile view  Developers  Statistics  Cookie statement           \n"
     ]
    }
   ],
   "source": [
    "text = text_from_html(html)\n",
    "print(text)"
   ]
  },
  {
   "cell_type": "code",
   "execution_count": 282,
   "metadata": {},
   "outputs": [
    {
     "name": "stdout",
     "output_type": "stream",
     "text": [
      "None\n"
     ]
    }
   ],
   "source": [
    "# I didn't know how to solve this. I remove all space but didn't work so, I left the code as is\n",
    "x = re.search('^.*$', text)\n",
    "print(x)"
   ]
  },
  {
   "cell_type": "code",
   "execution_count": 283,
   "metadata": {},
   "outputs": [
    {
     "name": "stdout",
     "output_type": "stream",
     "text": [
      "['e', 'h', 'e', 'm', 'i', 'k', 'i', 'e', 'd', 'i', 'a', 'h', 'e', 'f', 'e', 'e', 'e', 'c', 'c', 'l', 'e', 'd', 'i', 'a', 'm', 'a', 'i', 'g', 'a', 'i', 'm', 'e', 'a', 'c', 'h', 'e', 'i', 'c', 'a', 'e', 'i', 'i', 'e', 'h', 'e', 'a', 'i', 'h', 'c', 'c', 'l', 'i', 'e', 'e', 'i', 'e', 'h', 'e', 'e', 'e', 'e', 'd', 'e', 'h', 'e', 'e', 'e', 'a', 'i', 'g', 'a', 'a', 'i', 'h', 'b', 'i', 'e', 'a', 'c', 'i', 'g', 'e', 'i', 'd', 'e', 'f', 'e', 'g', 'e', 'l', 'l', 'e', 'g', 'e', 'f', 'f', 'i', 'c', 'e', 'a', 'a', 'a', 'e', 'c', 'e', 'd', 'e', 'd', 'b', 'i', 'l', 'l', 'i', 'a', 'm', 'c', 'h', 'e', 'c', 'c', 'e', 'e', 'd', 'e', 'd', 'b', 'a', 'm', 'e', 'd', 'e', 'e', 'a', 'l', 'd', 'e', 'a', 'i', 'l', 'i', 'e', 'c', 'b', 'e', 'i', 'j', 'a', 'i', 'c', 'h', 'a', 'c', 'e', 'a', 'i', 'i', 'e', 'd', 'c', 'b', 'e', 'a', 'g', 'e', 'd', 'i', 'g', 'e', 'a', 'l', 'a', 'd', 'e', 'i', 'g', 'l', 'a', 'c', 'e', 'g', 'a', 'i', 'h', 'c', 'h', 'l', 'm', 'a', 'm', 'a', 'e', 'l', 'e', 'g', 'i', 'd', 'e', 'a', 'i', 'c', 'l', 'a', 'l', 'a', 'd', 'i', 'f', 'i', 'c', 'a', 'l', 'i', 'e', 'i', 'f', 'e', 'i', 'c', 'e', 'h', 'e', 'b', 'i', 'e', 'c', 'b', 'e', 'c', 'b', 'e', 'a', 'a', 'a', 'e', 'i', 'c', 'a', 'a', 'h', 'l', 'i', 'c', 'i', 'e', 'a', 'd', 'e', 'i', 'i', 'i', 'c', 'h', 'a', 'c', 'h', 'e', 'd', 'i', 'e', 'd', 'c', 'a', 'l', 'a', 'a', 'h', 'e', 'l', 'e', 'g', 'i', 'd', 'e', 'a', 'i', 'c', 'l', 'a', 'd', 'h', 'e', 'a', 'l', 'a', 'd', 'i', 'f', 'i', 'c', 'a', 'l', 'i', 'e', 'i', 'f', 'e', 'i', 'c', 'e', 'b', 'e', 'c', 'a', 'm', 'e', 'a', 'c', 'a', 'i', 'e', 'd', 'i', 'h', 'h', 'e', 'f', 'e', 'm', 'e', 'a', 'a', 'a', 'a', 'e', 'a', 'd', 'a', 'm', 'a', 'd', 'e', 'c', 'h', 'a', 'l', 'a', 'i', 'h', 'e', 'f', 'e', 'i', 'm', 'e', 'i', 'a', 'l', 'f', 'a', 'm', 'i', 'l', 'e', 'a', 'l', 'a', 'e', 'i', 'c', 'h', 'a', 'g', 'e', 'f', 'h', 'e', 'e', 'd', 'c', 'a', 'i', 'f', 'a', 'l', 'l', 'h', 'e', 'i', 'c', 'e', 'i', 'e', 'i', 'c', 'e', 'a', 'a', 'c', 'l', 'e', 'a', 'l', 'l', 'f', 'm', 'e', 'g', 'd', 'e', 'b', 'i', 'd', 'e', 'e', 'i', 'd', 'i', 'g', 'i', 'a', 'd', 'i', 'd', 'f', 'f', 'e', 'a', 'a', 'h', 'i', 'a', 'e', 'a', 'd', 'l', 'i', 'i', 'c', 'a', 'l', 'i', 'f', 'm', 'a', 'a', 'd', 'a', 'c', 'c', 'm', 'a', 'i', 'g', 'h', 'i', 'm', 'd', 'i', 'g', 'h', 'i', 'e', 'i', 'l', 'e', 'a', 'l', 'a', 'd', 'g', 'l', 'a', 'd', 'l', 'l', 'i', 'g', 'b', 'i', 'd', 'e', 'e', 'e', 'c', 'i', 'i', 'e', 'm', 'e', 'd', 'h', 'e', 'i', 'e', 'd', 'a', 'e', 'i', 'h', 'h', 'e', 'e', 'i', 'l', 'e', 'd', 'm', 'e', 'a', 'a', 'a', 'a', 'd', 'h', 'e', 'c', 'h', 'i', 'l', 'd', 'e', 'a', 'd', 'e', 'l', 'e', 'd', 'i', 'a', 'h', 'i', 'g', 'e', 'b', 'e', 'c', 'a', 'm', 'e', 'h', 'e', 'c', 'h', 'a', 'l', 'a', 'i', 'h', 'e', 'e', 'g', 'e', 'i', 'i', 'a', 'i', 'a', 'e', 'a', 'd', 'e', 'e', 'e', 'd', 'h', 'e', 'c', 'i', 'e', 'f', 'e', 'i', 'k', 'i', 'g', 'a', 'l', 'a', 'a', 'i', 'c', 'e', 'a', 'd', 'm', 'i', 'i', 'e', 'a', 'e', 'g', 'e', 'l', 'l', 'e', 'g', 'e', 'h', 'e', 'h', 'e', 'e', 'i', 'd', 'e', 'f', 'e', 'g', 'e', 'l', 'l', 'e', 'g', 'e', 'i', 'l', 'l', 'i', 'a', 'm', 'c', 'h', 'e', 'd', 'i', 'e', 'd', 'e', 'b', 'e', 'c', 'a', 'm', 'e', 'a', 'c', 'i', 'g', 'e', 'i', 'd', 'e', 'i', 'm', 'a', 'k', 'i', 'g', 'h', 'i', 'm', 'h', 'e', 'f', 'i', 'a', 'i', 'm', 'e', 'i', 'c', 'a', 'e', 'i', 'd', 'e', 'f', 'a', 'i', 'e', 'i', 'i', 'h', 'e', 'i', 'e', 'd', 'a', 'e', 'a', 'e', 'd', 'c', 'a', 'h', 'e', 'g', 'a', 'e', 'e', 'd', 'a', 'e', 'a', 'i', 'a', 'a', 'i', 'c', 'd', 'i', 'c', 'i', 'l', 'i', 'a', 'i', 'a', 'e', 'e', 'a', 'l', 'm', 'h', 'i', 'h', 'i', 'e', 'i', 'd', 'e', 'c', 'h', 'e', 'f', 'e', 'l', 'l', 'i', 'l', 'l', 'a', 'd', 'a', 'e', 'e', 'c', 'e', 'a', 'e', 'i', 'i', 'g', 'e', 'a', 'l', 'a', 'd', 'h', 'e', 'd', 'i', 'e', 'd', 'h', 'e', 'e', 'i', 'e', 'a', 'l', 'l', 'i', 'f', 'e', 'h', 'a', 'l', 'a', 'i', 'h', 'e', 'b', 'i', 'd', 'e', 'e', 'h', 'e', 'i', 'e', 'd', 'a', 'e', 'e', 'g', 'e', 'l', 'l', 'e', 'g', 'e', 'e', 'e', 'f', 'e', 'e', 'c', 'e', 'i', 'a', 'i', 'c', 'e', 'e', 'a', 'l', 'l', 'i', 'k', 'a', 'l', 'l', 'i', 'f', 'e', 'e', 'd', 'i', 'i', 'e', 'a', 'b', 'c', 'b', 'e', 'i', 'i', 'j', 'a', 'i', 'c', 'h', 'a', 'c', 'i', 'e', 'a', 'i', 'l', 'c', 'a', 'e', 'd', 'd', 'a', 'i', 'e', 'i', 'c', 'a', 'f', 'a', 'm', 'i', 'l', 'f', 'a', 'c', 'h', 'e', 'h', 'e', 'h', 'a', 'd', 'a', 'd', 'i', 'i', 'g', 'i', 'h', 'e', 'd', 'a', 'i', 'h', 'e', 'i', 'c', 'a', 'l', 'i', 'e', 'a', 'g', 'e', 'e', 'a', 'e', 'd', 'e', 'd', 'f', 'i', 'h', 'e', 'l', 'e', 'g', 'i', 'd', 'e', 'a', 'i', 'c', 'l', 'a', 'd', 'h', 'e', 'h', 'e', 'a', 'l', 'a', 'd', 'i', 'f', 'i', 'c', 'a', 'l', 'i', 'e', 'i', 'f', 'e', 'i', 'c', 'h', 'e', 'e', 'h', 'e', 'e', 'c', 'e', 'i', 'e', 'd', 'a', 'b', 'a', 'c', 'h', 'e', 'l', 'd', 'e', 'g', 'e', 'e', 'i', 'c', 'a', 'l', 'a', 'e', 'a', 'h', 'e', 'i', 'c', 'h', 'a', 'g', 'e', 'f', 'h', 'e', 'l', 'c', 'a', 'l', 'c', 'h', 'c', 'h', 'i', 'e', 'i', 'b', 'i', 'c', 'h', 'a', 'c', 'a', 'e', 'i', 'l', 'i', 'f', 'e', 'e', 'e', 'l', 'a', 'e', 'd', 'h', 'a', 'h', 'e', 'h', 'e', 'f', 'i', 'l', 'e', 'a', 'd', 'e', 'f', 'h', 'e', 'e', 'i', 'c', 'a', 'a', 'f', 'd', 'e', 'e', 'd', 'e', 'c', 'e', 'i', 'g', 'e', 'l', 'i', 'd', 'a', 'l', 'g', 'a', 'a', 'e', 'l', 'i', 'g', 'h', 'g', 'h', 'i', 'c', 'h', 'a', 'c', 'i', 'e', 'c', 'c', 'e', 'f', 'l', 'l', 'i', 'e', 'd', 'a', 'e', 'h', 'i', 'm', 'a', 'd', 'h', 'e', 'f', 'l', 'e', 'd', 'a', 'l', 'l', 'a', 'd', 'l', 'i', 'd', 'h', 'e', 'e', 'h', 'e', 'b', 'e', 'c', 'a', 'm', 'e', 'a', 'c', 'a', 'i', 'e', 'd', 'i', 'h', 'a', 'a', 'a', 'a', 'e', 'h', 'e', 'i', 'f', 'e', 'f', 'h', 'e', 'f', 'e', 'm', 'e', 'f', 'e', 'i', 'c', 'g', 'd', 'e', 'b', 'i', 'd', 'e', 'a', 'e', 'l', 'f', 'h', 'i', 'f', 'a', 'm', 'i', 'l', 'i', 'a', 'i', 'i', 'h', 'a', 'e', 'e', 'a', 'a', 'i', 'e', 'd', 'c', 'h', 'a', 'l', 'a', 'i', 'b', 'i', 'd', 'e', 'c', 'e', 'e', 'l', 'i', 'a', 'a', 'm', 'a', 'd', 'l', 'a', 'e', 'h', 'e', 'i', 'e', 'i', 'm', 'i', 'e', 'i', 'i', 'g', 'i', 'd', 'i', 'c', 'h', 'a', 'c', 'h', 'a', 'l', 'a', 'i', 'h', 'e', 'b', 'i', 'd', 'e', 'e', 'd', 'i', 'h', 'e', 'b', 'i', 'd', 'e', 'a', 'e', 'l', 'i', 'e', 'e', 'd', 'f', 'c', 'm', 'm', 'a', 'd', 'b', 'h', 'e', 'i', 'c', 'e', 'f', 'e', 'a', 'i', 'i', 'e', 'a', 'e', 'l', 'e', 'd', 'a', 'd', 'i', 'd', 'h', 'e', 'f', 'l', 'l', 'i', 'g', 'e', 'a', 'd', 'e', 'f', 'e', 'd', 'h', 'i', 'm', 'a', 'h', 'i', 'a', 'e', 'e', 'm', 'a', 'i', 'i', 'g', 'i', 'a', 'i', 'f', 'e', 'e', 'a', 'l', 'e', 'a', 'e', 'k', 'e', 'b', 'i', 'd', 'e', 'i', 'f', 'm', 'e', 'd', 'f', 'l', 'i', 'i', 'c', 'a', 'l', 'e', 'e', 'i', 'a', 'd', 'i', 'd', 'i', 'c', 'l', 'd', 'i', 'g', 'h', 'e', 'e', 'a', 'l', 'd', 'i', 'c', 'd', 'b', 'e', 'e', 'e', 'i', 'g', 'e', 'd', 'i', 'a', 'd', 'a', 'd', 'h', 'e', 'l', 'i', 'b', 'e', 'a', 'l', 'h', 'i', 'c', 'h', 'l', 'e', 'd', 'a', 'i', 'i', 'g', 'a', 'd', 'h', 'e', 'i', 'b', 'e', 'a', 'l', 'i', 'e', 'i', 'm', 'a', 'e', 'e', 'e', 'd', 'e', 'i', 'c', 'e', 'j', 'i', 'b', 'i', 'd', 'e', 'd', 'i', 'g', 'h', 'i', 'h', 'e', 'a', 'b', 'l', 'i', 'h', 'e', 'i', 'c', 'a', 'i', 'd', 'e', 'e', 'd', 'e', 'c', 'e', 'e', 'b', 'e', 'c', 'a', 'm', 'e', 'h', 'e', 'c', 'h', 'a', 'l', 'a', 'i', 'h', 'e', 'b', 'i', 'd', 'e', 'f', 'a', 'm', 'i', 'l', 'a', 'd', 'e', 'd', 'e', 'f', 'h', 'e', 'c', 'h', 'i', 'l', 'd', 'e', 'g', 'e', 'i', 'm', 'e', 'a', 'l', 'l', 'h', 'e', 'a', 'l', 'a', 'c', 'e', 'd', 'i', 'c', 'h', 'a', 'g', 'e', 'f', 'h', 'e', 'e', 'd', 'c', 'a', 'i', 'f', 'a', 'l', 'l', 'h', 'e', 'i', 'c', 'e', 'i', 'e', 'i', 'c', 'i', 'l', 'b', 'h', 'e', 'i', 'i', 'e', 'f', 'i', 'c', 'e', 'a', 'd', 'c', 'c', 'l', 'e', 'i', 'a', 'i', 'c', 'a', 'l', 'f', 'f', 'a', 'i', 'a', 'd', 'e', 'a', 'c', 'i', 'c', 'l', 'm', 'i', 'l', 'e', 'd', 'd', 'e', 'g', 'l', 'a', 'm', 'e', 'd', 'e', 'i', 'c', 'c', 'i', 'd', 'e', 'l', 'c', 'i', 'e', 'm', 'e', 'i', 'c', 'a', 'd', 'e', 'l', 'e', 'd', 'h', 'e', 'e', 'd', 'c', 'a', 'i', 'a', 'l', 'c', 'i', 'c', 'l', 'm', 'f', 'a', 'i', 'h', 'i', 'c', 'e', 'h', 'i', 'm', 'a', 'a', 'l', 'a', 'b', 'l', 'i', 'h', 'e', 'd', 'd', 'e', 'm', 'i', 'l', 'i', 'a', 'e', 'i', 'c', 'i', 'c', 'l', 'm', 'i', 'e', 'e', 'd', 'f', 'a', 'a', 'b', 'l', 'a', 'g', 'm', 'a', 'c', 'h', 'a', 'd', 'a', 'm', 'i', 'e', 'l', 'e', 'f', 'h', 'e', 'i', 'm', 'e', 'i', 'a', 'l', 'f', 'a', 'm', 'i', 'l', 'i', 'l', 'i', 'i', 'c', 'i', 'g', 'i', 'm', 'e', 'h', 'a', 'a', 'd', 'd', 'i', 'h', 'h', 'e', 'e', 'l', 'e', 'a', 'b', 'l', 'i', 'h', 'e', 'd', 'c', 'i', 'i', 'a', 'l', 'm', 'a', 'c', 'h', 'h', 'a', 'h', 'a', 'e', 'd', 'l', 'i', 'i', 'c', 'a', 'l', 'e', 'i', 'h', 'a', 'e', 'e', 'e', 'a', 'i', 'e', 'l', 'e', 'g', 'i', 'l', 'a', 'e', 'b', 'i', 'd', 'e', 'e', 'i', 'l', 'e', 'f', 'm', 'e', 'i', 'c', 'i', 'e', 'a', 'c', 'c', 'm', 'a', 'i', 'e', 'd', 'h', 'e', 'i', 'm', 'e', 'i', 'a', 'l', 'e', 'a', 'g', 'e', 'i', 'c', 'l', 'd', 'i', 'g', 'h', 'e', 'e', 'm', 'e', 'e', 'i', 'g', 'h', 'c', 'h', 'i', 'l', 'd', 'e', 'i', 'a', 'l', 'e', 'f', 'l', 'l', 'e', 'd', 'h', 'e', 'm', 'g', 'l', 'a', 'd', 'h', 'e', 'i', 'g', 'e', 'd', 'i', 'a', 'd', 'f', 'a', 'i', 'e', 'e', 'd', 'h', 'e', 'a', 'd', 'k', 'e', 'f', 'c', 'a', 'e', 'e', 'l', 'b', 'i', 'd', 'e', 'f', 'm', 'h', 'i', 'c', 'e', 'a', 'i', 'l', 'e', 'd', 'l', 'a', 'a', 'i', 'a', 'i', 'h', 'b', 'i', 'd', 'e', 'c', 'c', 'e', 'f', 'l', 'j', 'a', 'e', 'a', 'k', 'e', 'e', 'i', 'c', 'e', 'h', 'e', 'i', 'e', 'd', 'a', 'e', 'e', 'd', 'i', 'e', 'l', 'i', 'g', 'i', 'h', 'e', 'i', 'e', 'd', 'a', 'e', 'e', 'f', 'i', 'b', 'e', 'c', 'a', 'm', 'e', 'c', 'h', 'a', 'l', 'a', 'i', 'h', 'e', 'e', 'g', 'e', 'i', 'i', 'a', 'i', 'a', 'e', 'h', 'e', 'b', 'i', 'd', 'e', 'a', 'e', 'e', 'c', 'e', 'd', 'i', 'e', 'i', 'c', 'i', 'h', 'i', 'i', 'd', 'm', 'e', 'a', 'a', 'a', 'a', 'e', 'a', 'd', 'c', 'h', 'i', 'l', 'd', 'e', 'f', 'l', 'e', 'd', 'e', 'i', 'c', 'f', 'h', 'e', 'i', 'e', 'd', 'a', 'e', 'e', 'a', 'c', 'c', 'm', 'a', 'i', 'e', 'd', 'h', 'e', 'm', 'e', 'l', 'e', 'a', 'h', 'e', 'e', 'h', 'e', 'e', 'i', 'd', 'e', 'd', 'f', 'e', 'e', 'a', 'l', 'm', 'h', 'b', 'e', 'f', 'e', 'a', 'e', 'l', 'i', 'g', 'h', 'a', 'l', 'i', 'm', 'e', 'a', 'd', 'h', 'e', 'e', 'l', 'i', 'g', 'i', 'h', 'e', 'c', 'i', 'f', 'e', 'g', 'e', 'i', 'h', 'e', 'i', 'i', 'c', 'f', 'l', 'm', 'b', 'i', 'a', 'b', 'a', 'e', 'e', 'l', 'l', 'e', 'd', 'h', 'e', 'd', 'a', 'g', 'h', 'e', 'i', 'h', 'e', 'e', 'g', 'e', 'i', 'i', 'a', 'i', 'c', 'a', 'd', 'e', 'm', 'f', 'h', 'e', 'm', 'l', 'a', 'e', 'e', 'e', 'e', 'd', 'h', 'e', 'i', 'i', 'a', 'i', 'a', 'e', 'a', 'a', 'c', 'h', 'e', 'd', 'h', 'e', 'a', 'c', 'a', 'd', 'e', 'm', 'a', 'e', 'f', 'h', 'e', 'm', 'a', 'i', 'e', 'd', 'a', 'm', 'a', 'e', 'i', 'd', 'i', 'g', 'i', 'e', 'g', 'e', 'a', 'd', 'a', 'h', 'e', 'i', 'c', 'e', 'a', 'l', 'a', 'd', 'e', 'l', 'l', 'e', 'd', 'a', 'a', 'd', 'e', 'a', 'e', 'g', 'e', 'l', 'l', 'e', 'g', 'e', 'e', 'a', 'i', 'c', 'a', 'd', 'i', 'a', 'e', 'd', 'a', 'a', 'i', 'e', 'i', 'h', 'e', 'c', 'h', 'd', 'i', 'c', 'e', 'e', 'f', 'a', 'l', 'i', 'm', 'e', 'c', 'a', 'd', 'b', 'e', 'c', 'a', 'm', 'e', 'h', 'e', 'c', 'h', 'a', 'l', 'a', 'i', 'h', 'e', 'e', 'g', 'e', 'i', 'i', 'a', 'i', 'a', 'e', 'e', 'b', 'e', 'g', 'a', 'a', 'g', 'l', 'i', 'c', 'i', 'i', 'g', 'h', 'i', 'a', 'm', 'e', 'a', 'e', 'h', 'e', 'h', 'g', 'h', 'a', 'l', 'e', 'a', 'd', 'a', 'i', 'e', 'h', 'e', 'g', 'h', 'a', 'd', 'm', 'i', 'i', 'h', 'e', 'c', 'i', 'e', 'f', 'e', 'a', 'd', 'a', 'e', 'c', 'e', 'i', 'e', 'd', 'e', 'c', 'e', 'm', 'b', 'e', 'a', 'e', 'i', 'i', 'c', 'e', 'h', 'e', 'k', 'e', 'd', 'a', 'e', 'g', 'e', 'l', 'l', 'e', 'g', 'e', 'd', 'i', 'g', 'h', 'i', 'f', 'm', 'a', 'i', 'e', 'e', 'a', 'l', 'l', 'b', 'e', 'c', 'm', 'i', 'g', 'm', 'i', 'i', 'e', 'f', 'h', 'e', 'c', 'l', 'l', 'e', 'g', 'e', 'e', 'a', 'l', 'b', 'e', 'c', 'a', 'm', 'e', 'h', 'e', 'l', 'i', 'b', 'a', 'i', 'a', 'f', 'h', 'e', 'c', 'l', 'l', 'e', 'g', 'e', 'i', 'k', 'a', 'e', 'g', 'e', 'e', 'i', 'e', 'd', 'h', 'i', 'm', 'e', 'l', 'i', 'i', 'h', 'h', 'i', 'l', 'e', 'a', 'c', 'h', 'a', 'l', 'a', 'i', 'h', 'e', 'b', 'i', 'd', 'e', 'h', 'e', 'e', 'a', 'l', 'l', 'm', 'e', 'd', 'h', 'i', 'l', 'a', 'd', 'e', 'l', 'h', 'i', 'a', 'e', 'g', 'e', 'l', 'l', 'e', 'g', 'e', 'e', 'd', 'i', 'l', 'l', 'i', 'g', 'h', 'e', 'd', 'e', 'a', 'h', 'f', 'i', 'l', 'l', 'i', 'a', 'm', 'c', 'h', 'e', 'e', 'a', 'a', 'm', 'e', 'd', 'e', 'i', 'd', 'e', 'f', 'e', 'g', 'e', 'l', 'l', 'e', 'g', 'e', 'a', 'a', 'i', 'a', 'a', 'c', 'i', 'g', 'c', 'a', 'a', 'c', 'i', 'i', 'h', 'h', 'e', 'e', 'e', 'c', 'a', 'i', 'h', 'a', 'h', 'e', 'i', 'c', 'i', 'a', 'l', 'e', 'i', 'l', 'd', 'a', 'i', 'a', 'e', 'm', 'a', 'e', 'c', 'c', 'e', 'e', 'l', 'i', 'e', 'e', 'h', 'i', 'm', 'f', 'h', 'i', 'h', 'i', 'a', 'i', 'm', 'e', 'h', 'e', 'b', 'e', 'c', 'a', 'm', 'e', 'h', 'e', 'f', 'i', 'a', 'i', 'm', 'e', 'i', 'c', 'a', 'e', 'i', 'd', 'e', 'f', 'a', 'i', 'e', 'i', 'i', 'h', 'e', 'i', 'e', 'd', 'a', 'e', 'd', 'e', 'a', 'k', 'a', 'a', 'i', 'c', 'd', 'i', 'c', 'i', 'l', 'i', 'a', 'i', 'a', 'b', 'h', 'f', 'h', 'i', 'd', 'e', 'a', 'd', 'a', 'l', 'l', 'e', 'i', 'd', 'e', 'h', 'i', 'c', 'h', 'a', 'g', 'e', 'e', 'a', 'b', 'l', 'e', 'e', 'e', 'd', 'i', 'g', 'h', 'i', 'e', 'e', 'a', 'h', 'e', 'e', 'a', 'b', 'l', 'i', 'h', 'm', 'e', 'f', 'a', 'l', 'i', 'e', 'a', 'c', 'i', 'e', 'a', 'l', 'g', 'i', 'd', 'e', 'h', 'e', 'e', 'i', 'i', 'g', 'h', 'i', 'l', 'd', 'e', 'm', 'i', 'c', 'c', 'i', 'e', 'k', 'a', 'h', 'e', 'h', 'i', 'l', 'm', 'i', 'a', 'c', 'i', 'e', 'h', 'i', 'c', 'h', 'e', 'l', 'a', 'c', 'e', 'd', 'h', 'e', 'h', 'i', 'l', 'e', 'l', 'e', 'h', 'e', 'i', 'a', 'c', 'i', 'e', 'i', 'e', 'i', 'd', 'e', 'c', 'l', 'a', 'e', 'd', 'j', 'e', 'e', 'a', 'l', 'm', 'h', 'b', 'e', 'f', 'e', 'h', 'e', 'b', 'e', 'c', 'a', 'm', 'e', 'i', 'l', 'l', 'a', 'd', 'a', 'c', 'c', 'e', 'e', 'd', 'e', 'd', 'b', 'a', 'm', 'e', 'd', 'e', 'a', 'e', 'e', 'e', 'd', 'h', 'e', 'i', 'i', 'f', 'm', 'i', 'i', 'e', 'l', 'b', 'i', 'e', 'f', 'l', 'b', 'e', 'f', 'e', 'b', 'e', 'i', 'g', 'e', 'i', 'g', 'e', 'a', 'l', 'a', 'd', 'e', 'c', 'e', 'a', 'e', 'e', 'e', 'k', 'b', 'e', 'f', 'e', 'h', 'i', 'd', 'e', 'a', 'h', 'h', 'e', 'e', 'i', 'e', 'd', 'i', 'g', 'e', 'f', 'e', 'a', 'e', 'd', 'h', 'a', 'a', 'c', 'f', 'f', 'i', 'l', 'd', 'b', 'e', 'e', 'a', 'd', 'f', 'h', 'i', 'm', 'i', 'i', 'm', 'e', 'l', 'e', 'a', 'i', 'g', 'h', 'i', 'e', 'l', 'd', 'h', 'e', 'm', 'b', 'e', 'c', 'a', 'e', 'h', 'e', 'l', 'd', 'd', 'i', 'e', 'i', 'l', 'a', 'd', 'a', 'e', 'h', 'i', 'e', 'd', 'i', 'c', 'i', 'c', 'b', 'e', 'h', 'e', 'd', 'i', 'e', 'd', 'i', 'i', 'g', 'e', 'h', 'e', 'e', 'h', 'e', 'a', 'b', 'i', 'e', 'd', 'i', 'h', 'a', 'e', 'l', 'i', 'e', 'l', 'd', 'e', 'a', 'l', 'l', 'a', 'l', 'l', 'h', 'e', 'g', 'a', 'e', 'h', 'e', 'e', 'e', 'e', 'e', 'i', 'e', 'e', 'd', 'i', 'h', 'e', 'c', 'e', 'm', 'e', 'e', 'a', 'd', 'j', 'i', 'i', 'g', 'g', 'a', 'i', 'h', 'c', 'h', 'i', 'h', 'e', 'a', 'm', 'e', 'i', 'l', 'l', 'a', 'g', 'e', 'e', 'e', 'd', 'i', 'm', 'e', 'c', 'e', 'i', 'd', 'e', 'i', 'f', 'e', 'f', 'i', 'a', 'm', 'e', 'a', 'e', 'e', 'g', 'e', 'a', 'a', 'e', 'a', 'a', 'e', 'l', 'c', 'h', 'a', 'e', 'e', 'd', 'c', 'i', 'i', 'h', 'i', 'h', 'e', 'i', 'i', 'c', 'f', 'l', 'm', 'b', 'i', 'a', 'i', 'l', 'h', 'e', 'c', 'l', 'i', 'd', 'a', 'i', 'f', 'h', 'e', 'd', 'i', 'i', 'c', 'g', 'e', 'm', 'e', 'i', 'a', 'i', 'g', 'l', 'e', 'e', 'i', 'a', 'h', 'i', 'g', 'i', 'h', 'h', 'e', 'g', 'a', 'i', 'c', 'c', 'f', 'h', 'e', 'i', 'i', 'c', 'f', 'l', 'm', 'b', 'i', 'a', 'f', 'e', 'l', 'l', 'd', 'e', 'h', 'e', 'e', 'c', 'c', 'l', 'e', 'i', 'a', 'i', 'c', 'a', 'l', 'j', 'i', 'd', 'i', 'c', 'i', 'f', 'h', 'e', 'c', 'h', 'd', 'i', 'c', 'e', 'e', 'f', 'a', 'l', 'i', 'm', 'e', 'i', 'l', 'h', 'e', 'e', 'e', 'c', 'i', 'f', 'h', 'e', 'c', 'h', 'd', 'i', 'c', 'e', 'e', 'f', 'a', 'h', 'i', 'g', 'i', 'h', 'e', 'c', 'e', 'd', 'e', 'c', 'i', 'b', 'e', 'e', 'a', 'h', 'e', 'f', 'i', 'i', 'a', 'i', 'c', 'e', 'i', 'd', 'e', 'f', 'a', 'm', 'e', 'i', 'c', 'a', 'i', 'e', 'i', 'e', 'f', 'e', 'e', 'c', 'e', 'e', 'd', 'i', 'i', 'a', 'i', 'e', 'd', 'i', 'a', 'b', 'c', 'd', 'e', 'f', 'g', 'h', 'i', 'l', 'a', 'e', 'd', 'a', 'l', 'f', 'e', 'd', 'a', 'c', 'h', 'e', 'e', 'i', 'f', 'e', 'e', 'a', 'c', 'e', 'd', 'e', 'e', 'a', 'd', 'e', 'a', 'a', 'a', 'i', 'g', 'e', 'l', 'i', 'd', 'a', 'l', 'g', 'e', 'h', 'e', 'h', 'a', 'h', 'i', 'i', 'e', 'h', 'a', 'b', 'a', 'e', 'i', 'g', 'e', 'l', 'i', 'd', 'a', 'l', 'g', 'e', 'l', 'a', 'e', 'i', 'i', 'a', 'e', 'e', 'i', 'c', 'i', 'a', 'i', 'h', 'c', 'h', 'i', 'e', 'd', 'f', 'm', 'h', 'e', 'i', 'g', 'i', 'a', 'l', 'i', 'l', 'e', 'i', 'e', 'e', 'd', 'i', 'l', 'e', 'd', 'i', 'a', 'b', 'a', 'l', 'a', 'b', 'a', 'b', 'm', 'i', 'h', 'e', 'a', 'c', 'f', 'a', 'c', 'f', 'a', 'b', 'c', 'd', 'e', 'a', 'd', 'd', 'b', 'i', 'd', 'e', 'a', 'b', 'i', 'a', 'd', 'a', 'a', 'e', 'l', 'e', 'm', 'b', 'e', 'e', 'g', 'e', 'a', 'i', 'c', 'h', 'i', 'a', 'i', 'c', 'e', 'i', 'a', 'g', 'e', 'h', 'e', 'a', 'c', 'h', 'i', 'e', 'd', 'f', 'm', 'h', 'e', 'i', 'g', 'i', 'a', 'l', 'e', 'e', 'm', 'b', 'e', 'e', 'i', 'e', 'e', 'd', 'i', 'l', 'i', 'm', 'e', 'l', 'i', 'e', 'f', 'c', 'h', 'd', 'i', 'c', 'e', 'e', 'f', 'a', 'h', 'i', 'g', 'a', 'h', 'l', 'i', 'c', 'a', 'd', 'a', 'd', 'c', 'h', 'd', 'i', 'c', 'e', 'e', 'f', 'a', 'h', 'i', 'g', 'e', 'e', 'm', 'b', 'e', 'c', 'h', 'i', 'e', 'd', 'f', 'm', 'h', 'e', 'i', 'g', 'i', 'a', 'l', 'g', 'e', 'i', 'e', 'e', 'd', 'g', 'e', 'i', 'h', 'e', 'a', 'e', 'i', 'b', 'i', 'd', 'e', 'a', 'a', 'b', 'c', 'd', 'h', 'e', 'a', 'a', 'b', 'a', 'e', 'i', 'l', 'a', 'f', 'e', 'g', 'e', 'i', 'e', 'i', 'e', 'i', 'c', 'e', 'e', 'd', 'i', 'a', 'c', 'f', 'b', 'e', 'e', 'h', 'e', 'k', 'f', 'b', 'e', 'e', 'a', 'c', 'f', 'i', 'f', 'e', 'i', 'c', 'l', 'a', 'a', 'c', 'i', 'c', 'a', 'c', 'f', 'm', 'a', 'c', 'h', 'i', 'e', 'd', 'f', 'm', 'h', 'e', 'i', 'g', 'i', 'a', 'l', 'i', 'l', 'e', 'i', 'e', 'e', 'd', 'i', 'l', 'i', 'a', 'g', 'l', 'e', 'k', 'm', 'a', 'i', 'e', 'f', 'h', 'a', 'l', 'i', 'k', 'a', 'b', 'e', 'm', 'm', 'e', 'h', 'e', 'i', 'c', 'e', 'e', 'i', 'a', 'l', 'i', 'f', 'e', 'g', 'e', 'i', 'e', 'i', 'm', 'c', 'a', 'd', 'e', 'm', 'i', 'e', 'i', 'a', 'h', 'i', 'g', 'e', 'g', 'e', 'i', 'e', 'i', 'e', 'c', 'h', 'i', 'e', 'd', 'f', 'm', 'h', 'e', 'i', 'g', 'i', 'a', 'l', 'e', 'e', 'm', 'b', 'e', 'e', 'i', 'e', 'e', 'd', 'e', 'e', 'm', 'b', 'e', 'i', 'a', 'g', 'l', 'e', 'k', 'm', 'a', 'i', 'e', 'f', 'h', 'a', 'l', 'i', 'k', 'e', 'i', 'd', 'a', 'd', 'e', 'i', 'f', 'h', 'e', 'a', 'l', 'a', 'd', 'e', 'k', 'i', 'c', 'e', 'a', 'i', 'g', 'e', 'a', 'a', 'l', 'a', 'd', 'd', 'c', 'k', 'e', 'e', 'c', 'h', 'i', 'e', 'd', 'f', 'm', 'h', 'e', 'i', 'g', 'i', 'a', 'l', 'i', 'l', 'e', 'i', 'e', 'e', 'd', 'i', 'l', 'i', 'a', 'e', 'i', 'c', 'h', 'i', 'e', 'm', 'a', 'i', 'e', 'f', 'h', 'a', 'l', 'i', 'k', 'e', 'i', 'd', 'a', 'd', 'c', 'b', 'e', 'i', 'f', 'h', 'e', 'a', 'l', 'a', 'd', 'e', 'k', 'i', 'c', 'e', 'h', 'e', 'i', 'c', 'e', 'i', 'h', 'e', 'e', 'a', 'd', 'c', 'k', 'e', 'e', 'c', 'h', 'i', 'e', 'd', 'f', 'm', 'h', 'e', 'i', 'g', 'i', 'a', 'l', 'a', 'c', 'h', 'e', 'i', 'e', 'e', 'd', 'i', 'l', 'i', 'a', 'e', 'i', 'c', 'h', 'i', 'e', 'm', 'a', 'i', 'e', 'f', 'h', 'a', 'l', 'i', 'k', 'd', 'd', 'a', 'l', 'e', 'a', 'l', 'e', 'i', 'g', 'h', 'h', 'e', 'e', 'm', 'e', 'f', 'h', 'e', 'i', 'i', 'c', 'f', 'l', 'm', 'b', 'i', 'a', 'd', 'i', 'e', 'd', 'e', 'a', 'l', 'a', 'd', 'i', 'c', 'i', 'a', 'l', 'd', 'm', 'i', 'i', 'a', 'i', 'a', 'h', 'i', 'g', 'h', 'e', 'e', 'i', 'e', 'e', 'd', 'e', 'e', 'm', 'b', 'e', 'i', 'a', 'e', 'e', 'c', 'h', 'i', 'e', 'm', 'a', 'i', 'e', 'f', 'h', 'a', 'l', 'i', 'k', 'a', 'b', 'm', 'i', 'h', 'a', 'm', 'e', 'a', 'i', 'l', 'a', 'e', 'g', 'e', 'i', 'e', 'i', 'i', 'h', 'e', 'i', 'i', 'c', 'f', 'l', 'm', 'b', 'i', 'a', 'e', 'k', 'e', 'i', 'b', 'l', 'i', 'h', 'i', 'g', 'm', 'a', 'c', 'h', 'i', 'e', 'd', 'f', 'm', 'h', 'e', 'i', 'g', 'i', 'a', 'l', 'e', 'c', 'e', 'm', 'b', 'e', 'e', 'i', 'e', 'e', 'd', 'a', 'a', 'i', 'a', 'g', 'l', 'e', 'k', 'm', 'a', 'i', 'e', 'f', 'h', 'a', 'l', 'i', 'k', 'b', 'i', 'd', 'e', 'g', 'i', 'd', 'e', 'a', 'c', 'h', 'g', 'i', 'd', 'e', 'b', 'i', 'd', 'e', 'e', 'c', 'd', 'f', 'h', 'e', 'm', 'e', 'i', 'c', 'a', 'a', 'h', 'l', 'i', 'c', 'i', 'i', 'c', 'a', 'l', 'c', 'i', 'e', 'f', 'h', 'i', 'l', 'a', 'd', 'e', 'l', 'h', 'i', 'a', 'm', 'a', 'i', 'e', 'f', 'h', 'a', 'l', 'i', 'k', 'e', 'd', 'i', 'a', 'b', 'a', 'l', 'f', 'a', 'a', 'l', 'g', 'e', 'f', 'c', 'm', 'm', 'e', 'i', 'c', 'a', 'l', 'a', 'g', 'e', 'h', 'g', 'h', 'i', 'a', 'i', 'm', 'e', 'e', 'i', 'c', 'h', 'i', 'e', 'e', 'a', 'l', 'i', 'e', 'd', 'a', 'e', 'c', 'h', 'i', 'e', 'd', 'f', 'm', 'h', 'e', 'i', 'g', 'i', 'a', 'l', 'a', 'c', 'h', 'e', 'i', 'e', 'e', 'd', 'i', 'l', 'm', 'a', 'i', 'e', 'f', 'h', 'a', 'l', 'i', 'k', 'e', 'i', 'l', 'e', 'c', 'e', 'm', 'b', 'e', 'i', 'l', 'a', 'l', 'f', 'e', 'd', 'e', 'd', 'd', 'e', 'g', 'l', 'a', 'm', 'e', 'd', 'e', 'i', 'c', 'c', 'i', 'd', 'e', 'l', 'c', 'i', 'e', 'm', 'e', 'i', 'c', 'a', 'e', 'h', 'd', 'a', 'd', 'e', 'g', 'l', 'a', 'i', 'f', 'i', 'c', 'i', 'f', 'h', 'e', 'e', 'i', 'c', 'a', 'i', 'c', 'e', 'd', 'i', 'd', 'e', 'h', 'i', 'i', 'a', 'm', 'd', 'e', 'a', 'c', 'e', 'm', 'e', 'a', 'd', 'e', 'i', 'c', 'i', 'a', 'i', 'h', 'c', 'h', 'i', 'e', 'd', 'f', 'm', 'h', 'e', 'i', 'g', 'i', 'a', 'l', 'i', 'l', 'e', 'i', 'e', 'e', 'd', 'i', 'l', 'i', 'a', 'c', 'i', 'm', 'a', 'i', 'e', 'f', 'h', 'a', 'l', 'i', 'k', 'a', 'h', 'a', 'c', 'h', 'l', 'a', 'i', 'c', 'a', 'e', 'c', 'c', 'f', 'i', 'h', 'a', 'd', 'i', 'h', 'e', 'e', 'i', 'g', 'f', 'd', 'c', 'k', 'd', 'c', 'k', 'e', 'e', 'c', 'h', 'i', 'e', 'd', 'f', 'm', 'h', 'e', 'i', 'g', 'i', 'a', 'l', 'a', 'c', 'h', 'e', 'i', 'e', 'e', 'd', 'i', 'l', 'i', 'a', 'e', 'i', 'c', 'h', 'i', 'e', 'm', 'a', 'i', 'e', 'f', 'h', 'a', 'l', 'i', 'k', 'e', 'i', 'l', 'a', 'f', 'e', 'g', 'e', 'i', 'e', 'i', 'a', 'i', 'i', 'c', 'h', 'a', 'd', 'e', 'd', 'e', 'm', 'e', 'd', 'a', 'k', 'e', 'a', 'h', 'i', 'g', 'c', 'h', 'i', 'e', 'd', 'f', 'm', 'h', 'e', 'i', 'g', 'i', 'a', 'l', 'e', 'b', 'a', 'e', 'i', 'e', 'e', 'd', 'a', 'a', 'i', 'a', 'e', 'g', 'e', 'i', 'e', 'i', 'i', 'b', 'a', 'm', 'a', 'i', 'e', 'f', 'h', 'a', 'l', 'i', 'k', 'h', 'e', 'a', 'h', 'i', 'l', 'm', 'a', 'h', 'a', 'e', 'a', 'h', 'e', 'e', 'h', 'e', 'e', 'm', 'i', 'a', 'l', 'f', 'h', 'e', 'i', 'e', 'f', 'e', 'g', 'e', 'l', 'l', 'e', 'g', 'e', 'a', 'h', 'i', 'g', 'l', 'l', 'i', 'e', 'c', 'h', 'i', 'e', 'd', 'f', 'm', 'h', 'e', 'i', 'g', 'i', 'a', 'l', 'a', 'a', 'e', 'i', 'e', 'e', 'd', 'a', 'a', 'i', 'a', 'g', 'l', 'e', 'k', 'm', 'a', 'i', 'e', 'f', 'h', 'a', 'l', 'i', 'k', 'e', 'a', 'l', 'l', 'i', 'k', 'e', 'd', 'i', 'i', 'k', 'i', 'm', 'e', 'd', 'i', 'a', 'm', 'm', 'h', 'a', 'm', 'e', 'd', 'i', 'a', 'e', 'l', 'a', 'e', 'd', 'e', 'h', 'e', 'h', 'e', 'e', 'm', 'l', 'a', 'e', 'i', 'd', 'a', 'a', 'e', 'i', 'b', 'e', 'i', 'g', 'c', 'i', 'd', 'e', 'e', 'd', 'f', 'd', 'e', 'l', 'e', 'i', 'e', 'h', 'e', 'a', 'i', 'd', 'a', 'a', 'e', 'c', 'a', 'd', 'e', 'm', 'i', 'c', 'f', 'f', 'i', 'c', 'e', 'e', 'c', 'e', 'd', 'e', 'd', 'b', 'i', 'l', 'l', 'i', 'a', 'm', 'c', 'h', 'e', 'c', 'i', 'g', 'e', 'i', 'd', 'e', 'f', 'e', 'g', 'e', 'l', 'l', 'e', 'g', 'e', 'c', 'c', 'e', 'e', 'd', 'e', 'd', 'b', 'a', 'm', 'e', 'd', 'e', 'e', 'e', 'i', 'd', 'e', 'f', 'e', 'g', 'e', 'i', 'e', 'i', 'l', 'k', 'e', 'l', 'e', 'b', 'g', 'e', 'a', 'l', 'e', 'l', 'e', 'e', 'a', 'l', 'e', 'a', 'h', 'e', 'e', 'a', 'l', 'e', 'a', 'i', 'e', 'i', 'c', 'k', 'h', 'l', 'm', 'a', 'e', 'i', 'c', 'k', 'e', 'i', 'c', 'k', 'b', 'i', 'e', 'i', 'e', 'e', 'c', 'h', 'e', 'l', 'l', 'e', 'd', 'c', 'h', 'e', 'e', 'd', 'e', 'l', 'l', 'e', 'd', 'l', 'l', 'e', 'd', 'd', 'e', 'e', 'e', 'e', 'a', 'g', 'i', 'e', 'a', 'l', 'a', 'g', 'i', 'e', 'a', 'l', 'e', 'a', 'l', 'a', 'i', 'c', 'h', 'a', 'd', 'h', 'i', 'e', 'a', 'g', 'h', 'e', 'e', 'l', 'i', 'm', 'm', 'e', 'l', 'l', 'e', 'e', 'd', 'e', 'e', 'i', 'l', 'e', 'a', 'm', 'a', 'h', 'i', 'e', 'a', 'm', 'b', 'e', 'l', 'l', 'e', 'l', 'e', 'e', 'a', 'l', 'a', 'e', 'i', 'i', 'a', 'i', 'g', 'a', 'h', 'a', 'l', 'a', 'h', 'l', 'i', 'c', 'i', 'm', 'a', 'l', 'd', 'c', 'a', 'i', 'a', 'l', 'a', 'l', 'a', 'd', 'a', 'l', 'e', 'i', 'c', 'a', 'l', 'i', 'e', 'd', 'a', 'e', 'a', 'l', 'e', 'i', 'e', 'e', 'd', 'f', 'm', 'h', 'e', 'i', 'k', 'i', 'e', 'd', 'i', 'a', 'g', 'i', 'd', 'e', 'h', 'i', 'l', 'e', 'e', 'h', 'e', 'l', 'd', 'i', 'd', 'a', 'e', 'g', 'i', 'e', 'b', 'i', 'h', 'd', 'e', 'a', 'h', 'e', 'l', 'e', 'f', 'm', 'i', 'j', 'a', 'd', 'e', 'l', 'a', 'a', 'e', 'i', 'c', 'a', 'e', 'l', 'e', 'f', 'a', 'i', 'h', 'd', 'e', 'c', 'e', 'a', 'l', 'a', 'd', 'i', 'f', 'i', 'c', 'a', 'l', 'i', 'e', 'i', 'f', 'e', 'i', 'c', 'a', 'l', 'm', 'i', 'a', 'h', 'l', 'i', 'c', 'c', 'h', 'a', 'l', 'a', 'i', 'm', 'e', 'i', 'c', 'a', 'c', 'h', 'a', 'l', 'a', 'i', 'h', 'c', 'e', 'm', 'e', 'i', 'c', 'a', 'e', 'i', 'e', 'i', 'c', 'a', 'e', 'i', 'e', 'i', 'd', 'e', 'f', 'e', 'g', 'e', 'i', 'e', 'i', 'i', 'd', 'd', 'e', 'c', 'a', 'e', 'g', 'i', 'e', 'a', 'i', 'h', 'l', 'a', 'g', 'a', 'g', 'e', 'c', 'e', 'e', 'i', 'c', 'l', 'e', 'i', 'h', 'h', 'd', 'e', 'c', 'i', 'i', 'h', 'd', 'e', 'c', 'i', 'i', 'm', 'a', 'c', 'h', 'e', 'i', 'k', 'i', 'd', 'a', 'a', 'e', 'm', 'd', 'd', 'a', 'e', 'f', 'm', 'e', 'e', 'm', 'b', 'e', 'e', 'm', 'e', 'i', 'c', 'a', 'g', 'l', 'i', 'h', 'f', 'm', 'e', 'e', 'm', 'b', 'e', 'l', 'l', 'i', 'k', 'i', 'e', 'd', 'i', 'a', 'a', 'i', 'c', 'l', 'e', 'i', 'e', 'i', 'm', 'e', 'i', 'c', 'a', 'g', 'l', 'i', 'h', 'm', 'a', 'i', 'e', 'f', 'h', 'a', 'a', 'i', 'l', 'a', 'g', 'a', 'g', 'e', 'c', 'e', 'l', 'a', 'l', 'i', 'a', 'e', 'g', 'i', 'a', 'c', 'e', 'a', 'i', 'm', 'm', 'c', 'a', 'e', 'g', 'l', 'i', 'k', 'i', 'i', 'k', 'i', 'd', 'a', 'a', 'i', 'h', 'e', 'l', 'e', 'm', 'e', 'e', 'a', 'e', 'd', 'a', 'i', 'c', 'l', 'e', 'a', 'i', 'g', 'a', 'i', 'm', 'e', 'e', 'a', 'l', 'l', 'l', 'g', 'g', 'e', 'd', 'i', 'a', 'l', 'k', 'i', 'b', 'i', 'e', 'a', 'e', 'a', 'c', 'c', 'g', 'i', 'a', 'm', 'e', 'a', 'c', 'e', 'i', 'c', 'l', 'e', 'a', 'l', 'k', 'a', 'i', 'a', 'i', 'e', 'e', 'a', 'd', 'd', 'i', 'i', 'e', 'h', 'i', 'e', 'e', 'a', 'c', 'h', 'a', 'i', 'g', 'a', 'i', 'a', 'i', 'a', 'g', 'e', 'e', 'e', 'e', 'e', 'a', 'd', 'm', 'a', 'i', 'c', 'l', 'e', 'b', 'i', 'k', 'i', 'e', 'd', 'i', 'a', 'a', 'c', 'a', 'e', 'i', 'b', 'e', 'e', 'l', 'e', 'a', 'e', 'd', 'i', 'm', 'm', 'i', 'a', 'l', 'e', 'c', 'e', 'c', 'h', 'a', 'g', 'e', 'l', 'a', 'd', 'f', 'i', 'l', 'e', 'l', 'h', 'a', 'l', 'i', 'k', 'h', 'e', 'e', 'e', 'l', 'a', 'e', 'd', 'c', 'h', 'a', 'g', 'e', 'l', 'a', 'd', 'f', 'i', 'l', 'e', 'e', 'c', 'i', 'a', 'l', 'a', 'g', 'e', 'e', 'm', 'a', 'e', 'l', 'i', 'k', 'a', 'g', 'e', 'i', 'f', 'm', 'a', 'i', 'i', 'e', 'h', 'i', 'a', 'g', 'e', 'i', 'k', 'i', 'd', 'a', 'a', 'i', 'e', 'm', 'i', 'e', 'l', 'a', 'd', 'a', 'i', 'a', 'b', 'l', 'e', 'e', 'i', 'h', 'e', 'j', 'e', 'c', 'i', 'k', 'i', 'm', 'e', 'd', 'i', 'a', 'm', 'm', 'a', 'g', 'a', 'g', 'e', 'd', 'i', 'l', 'i', 'k', 'h', 'i', 'a', 'g', 'e', 'a', 'l', 'a', 'e', 'd', 'i', 'e', 'd', 'c', 'b', 'e', 'a', 'e', 'i', 'a', 'a', 'i', 'l', 'a', 'b', 'l', 'e', 'd', 'e', 'h', 'e', 'e', 'a', 'i', 'e', 'm', 'm', 'i', 'b', 'i', 'h', 'a', 'e', 'l', 'i', 'k', 'e', 'i', 'c', 'e', 'e', 'a', 'd', 'd', 'i', 'i', 'a', 'l', 'e', 'm', 'm', 'a', 'a', 'l', 'i', 'g', 'h', 'i', 'i', 'e', 'a', 'g', 'e', 'e', 'h', 'e', 'e', 'm', 'f', 'e', 'a', 'd', 'i', 'a', 'c', 'l', 'i', 'c', 'i', 'k', 'i', 'e', 'd', 'i', 'a', 'i', 'a', 'e', 'g', 'i', 'e', 'e', 'd', 'a', 'd', 'e', 'm', 'a', 'k', 'f', 'h', 'e', 'i', 'k', 'i', 'm', 'e', 'd', 'i', 'a', 'd', 'a', 'i', 'c', 'a', 'f', 'i', 'g', 'a', 'i', 'a', 'i', 'i', 'a', 'c', 'l', 'i', 'c', 'b', 'i', 'k', 'i', 'e', 'd', 'i', 'a', 'i', 'c', 'l', 'a', 'i', 'm', 'e', 'a', 'c', 'i', 'k', 'i', 'e', 'd', 'i', 'a', 'b', 'i', 'l', 'e', 'i', 'e', 'e', 'e', 'l', 'e', 'a', 'i', 'i', 'c', 'k', 'i', 'e', 'a', 'e', 'm', 'e']\n"
     ]
    }
   ],
   "source": [
    "x = re.findall(\"[a-m]\", text)\n",
    "print(x)"
   ]
  },
  {
   "cell_type": "code",
   "execution_count": 284,
   "metadata": {},
   "outputs": [
    {
     "name": "stdout",
     "output_type": "stream",
     "text": [
      "['1', '1', '8', '4', '0', '1', '1', '8', '4', '0', '1', '7', '7', '9', '1', '0', '0', '4', '4', '1', '7', '7', '9', '5', '1', '8', '4', '1', '1', '8', '4', '1', '1', '0', '0', '5', '6', '2', '4', '1', '7', '7', '9', '5', '1', '8', '4', '1', '1', '8', '2', '4', '1', '8', '3', '3', '1', '8', '4', '0', '1', '8', '4', '1', '1', '2', '3', '3', '1', '4', '5', '5', '1', '5', '2', '6', '4', '1', '7', '7', '9', '2', '1', '3', '1', '8', '1', '0', '1', '1', '8', '1', '6', '1', '8', '2', '1', '1', '1', '8', '2', '2', '1', '4', '1', '8', '2', '3', '5', '6', '1', '8', '2', '4', '1', '1', '8', '2', '4', '7', '9', '7', '1', '0', '7', '1', '2', '1', '0', '1', '8', '3', '3', '1', '3', '1', '4', '7', '1', '1', '5', '1', '1', '8', '4', '0', '3', '1', '6', '1', '7', '1', '1', '7', '1', '7', '1', '8', '1', '1', '8', '4', '0', '1', '9', '1', '7', '7', '1', '8', '5', '1', '8', '4', '1', '2', '0', '1', '1', '8', '7', '1', '8', '1', '9', '3', '9', '1', '1', '1', '0', '1', '2', '2', '0', '1', '9', '2', '9', '2', '0', '2', '0', '2', '9', '2', '0', '2', '0', '1', '9', '7', '2', '2', '1', '1', '9', '0', '7', '7', '5', '2', '0', '1', '2', '1', '7', '8', '1', '8', '8', '5', '8', '0', '4', '1', '8', '8', '5', '8', '0', '6', '8', '0', '7', '1', '9', '0', '4', '1', '6', '1', '9', '0', '9', '4', '0', '1', '9', '1', '6', '3', '9', '7', '2', '0', '0', '0', '1', '8', '2', '0', '1', '9', '2', '9', '2', '0', '2', '0', '2', '4', '2', '0', '1', '4', '3', '1', '2', '0', '1', '8', '3', '0', '2', '0', '1', '8', '1', '9', '3', '3', '3', '1', '6', '1', '8', '9', '1', '1', '2', '3', '1', '9', '3', '3', '3', '1', '6', '3', '1', '7', '1', '9', '1', '6', '4', '0', '1', '9', '9', '3', '1', '2', '1', '1', '8', '9', '1', '1', '2', '4', '1', '9', '0', '4', '1', '7', '1', '9', '3', '9', '3', '0', '1', '9', '3', '1', '2', '2', '5', '1', '8', '8', '5', '1', '8', '0', '4', '1', '8', '2', '4', '8', '8', '0', '1', '1', '0', '2', '2', '5', '2', '9', '2', '0', '2', '0', '2', '9', '2', '0', '2', '0', '1', '1', '9', '9', '3', '1', '7', '8', '9', '1', '8', '8', '9', '1', '9', '7', '8', '0', '8', '7', '8', '4', '0', '4', '8', '5', '8', '1', '8', '2', '0', '1', '9', '1', '7', '2', '0', '1', '9', '1', '1', '1', '9', '3', '1', '2', '1', '9', '9', '2', '2', '6', '2', '8', '2', '0', '2', '0', '2', '8', '2', '0', '2', '0', '1', '1', '1', '9', '3', '3', '1', '8', '3', '3', '3', '3', '0', '9', '3', '4', '8', '1', '0', '2', '0', '2', '0', '2', '8', '2', '0', '2', '0', '1', '1', '9', '0', '9', '4', '0', '2', '4', '8', '5', '6', '5', '3', '1', '8', '2', '0', '1', '9', '1', '1', '9', '0', '7', '1', '7', '8', '9', '1', '9', '0', '7', '1', '6', '3', '3', '4', '2', '5', '0', '4', '1', '1', '8', '2', '0', '1', '8', '3', '0', '2', '0', '1', '9', '1', '1', '9', '1', '6', '2', '7', '1', '1', '6', '4', '4', '4', '4', '2', '0', '8', '3', '6', '5', '1', '1', '9', '7', '2', '0', '1', '1', '6', '0', '0', '1', '2', '9', '2', '7', '2', '0', '1', '9', '1', '6', '2', '0', '2', '0', '1', '2', '0', '1', '2', '1', '8', '2', '2', '4', '4', '1', '7', '5', '1', '9', '4', '2', '9', '2', '0', '2', '0', '2', '9', '2', '0', '2', '0', '1', '1', '1', '9', '0', '4', '1', '8', '0', '5', '1', '8', '6', '9', '1', '1', '6', '1', '7', '1', '0', '2', '0', '2', '0', '2', '8', '2', '0', '2', '0', '1', '1', '9', '3', '9', '1', '3', '2', '0', '1', '7', '3', '0', '2', '0', '1', '9', '1', '1', '8', '9', '1', '3', '1', '2', '3', '1', '2', '4', '9', '6', '0', '0', '6', '6', '2', '9', '8', '3', '0', '2', '0', '1', '9', '3', '0', '2', '0', '1', '9', '1', '1', '8', '4', '0', '1', '7', '9', '1', '9', '3', '1', '7', '9', '3', '9', '6', '1', '7', '9', '6', '9', '8', '1', '7', '9', '8', '1', '8', '0', '6', '1', '8', '0', '6', '0', '8', '1', '8', '0', '9', '1', '8', '0', '9', '1', '8', '0', '9', '1', '2', '1', '8', '1', '2', '1', '7', '1', '8', '1', '7', '1', '8', '1', '7', '2', '0', '1', '8', '2', '0', '2', '5', '1', '8', '2', '5', '1', '8', '2', '5', '2', '6', '1', '8', '2', '6', '2', '9', '1', '8', '2', '9', '1', '8', '2', '9', '3', '7', '1', '8', '3', '8', '4', '0', '1', '8', '4', '0', '1', '8', '4', '0', '4', '5', '1', '8', '4', '5', '1', '8', '4', '5', '4', '8', '1', '8', '4', '8', '5', '1', '1', '8', '5', '1', '5', '2', '1', '8', '5', '3', '5', '8', '1', '8', '5', '8', '6', '6', '1', '8', '6', '6', '7', '0', '1', '8', '7', '0', '7', '3', '1', '8', '7', '3', '8', '2', '1', '8', '8', '2', '8', '8', '1', '8', '8', '8', '9', '8', '1', '8', '9', '8', '1', '9', '0', '1', '1', '9', '0', '1', '0', '5', '1', '9', '0', '5', '0', '8', '1', '9', '0', '8', '1', '2', '1', '9', '1', '2', '1', '8', '1', '9', '1', '8', '2', '4', '1', '9', '2', '4', '2', '8', '1', '9', '2', '8', '3', '5', '1', '9', '3', '5', '4', '2', '1', '9', '4', '2', '4', '9', '1', '9', '4', '9', '5', '2', '1', '9', '5', '2', '6', '4', '1', '9', '6', '4', '6', '9', '1', '9', '6', '9', '7', '6', '1', '9', '7', '6', '8', '9', '1', '9', '8', '9', '2', '0', '0', '1', '2', '0', '0', '1', '9', '8', '1', '7', '5', '9', '2', '6', '1', '1', '7', '7', '9', '1', '8', '4', '1', '1', '9', '1', '2', '0', '1', '9', '2', '0', '1', '9', '1', '1', '1', '0', '4', '2', '0', '2', '0', '0', '8', '1', '8']\n"
     ]
    }
   ],
   "source": [
    "x = re.findall(\"\\d\", text)\n",
    "print(x)"
   ]
  },
  {
   "cell_type": "code",
   "execution_count": 285,
   "metadata": {},
   "outputs": [
    {
     "name": "stdout",
     "output_type": "stream",
     "text": [
      "['st, s', 'stics']\n"
     ]
    }
   ],
   "source": [
    "x = re.findall(\"st..s\", text)\n",
    "print(x)"
   ]
  },
  {
   "cell_type": "code",
   "execution_count": 286,
   "metadata": {},
   "outputs": [],
   "source": [
    "fix = re.sub(r\"^\\s+|\\s+$\", \"\", text)"
   ]
  },
  {
   "cell_type": "code",
   "execution_count": 287,
   "metadata": {},
   "outputs": [
    {
     "name": "stdout",
     "output_type": "stream",
     "text": [
      "Yes, the string starts with 'Joseph'\n"
     ]
    }
   ],
   "source": [
    "x = re.findall(\"^Joseph\", fix)\n",
    "if x:\n",
    "    print(\"Yes, the string starts with 'Joseph'\")\n",
    "else:\n",
    "    print(\"No match\")"
   ]
  },
  {
   "cell_type": "code",
   "execution_count": 288,
   "metadata": {},
   "outputs": [
    {
     "name": "stdout",
     "output_type": "stream",
     "text": [
      "Yes, the string ends with 'statement'\n"
     ]
    }
   ],
   "source": [
    "x = re.findall(\"statement$\", fix)\n",
    "if x:\n",
    "    print(\"Yes, the string ends with 'statement'\")\n",
    "else:\n",
    "    print(\"No match\")"
   ]
  },
  {
   "cell_type": "code",
   "execution_count": 289,
   "metadata": {},
   "outputs": [
    {
     "name": "stdout",
     "output_type": "stream",
     "text": [
      "['am', 'am', 'am', 'am', 'am', 'am', 'am', 'am', 'am', 'am', 'am', 'am', 'am', 'am', 'am', 'am', 'am', 'am', 'am', 'am', 'am', 'am', 'am', 'am', 'am', 'am', 'am', 'am', 'am', 'am', 'am']\n",
      "Yes, there is at least one match!\n"
     ]
    }
   ],
   "source": [
    "x = re.findall(\"amx*\", text)\n",
    "\n",
    "print(x)\n",
    "\n",
    "if x:\n",
    "    print(\"Yes, there is at least one match!\")\n",
    "else:\n",
    "    print(\"No match\")"
   ]
  },
  {
   "cell_type": "code",
   "execution_count": 290,
   "metadata": {},
   "outputs": [
    {
     "name": "stdout",
     "output_type": "stream",
     "text": [
      "['ki', 'ki', 'ki', 'ki', 'ki', 'ki', 'ki', 'ki', 'ki', 'ki', 'ki', 'ki', 'ki', 'ki', 'ki', 'ki']\n",
      "Yes, there is at least one match!\n"
     ]
    }
   ],
   "source": [
    "x = re.findall(\"ki+\", text)\n",
    "print(x)\n",
    "\n",
    "if x:\n",
    "    print(\"Yes, there is at least one match!\")\n",
    "else:\n",
    "    print(\"No match\")"
   ]
  },
  {
   "cell_type": "code",
   "execution_count": 291,
   "metadata": {},
   "outputs": [
    {
     "name": "stdout",
     "output_type": "stream",
     "text": [
      "['too']\n",
      "Yes, there is at least one match!\n"
     ]
    }
   ],
   "source": [
    "x = re.findall(\"to{2}\", text)\n",
    "\n",
    "print(x)\n",
    "\n",
    "if x:\n",
    "    print(\"Yes, there is at least one match!\")\n",
    "else:\n",
    "    print(\"No match\")"
   ]
  },
  {
   "cell_type": "code",
   "execution_count": 292,
   "metadata": {},
   "outputs": [
    {
     "name": "stdout",
     "output_type": "stream",
     "text": [
      "['Book', 'Book', 'Book', 'Book', 'Book']\n",
      "Yes, there is at least one match!\n"
     ]
    }
   ],
   "source": [
    "x = re.findall(\"stars|Book\", text)\n",
    "1\n",
    "print(x)\n",
    "\n",
    "if x:\n",
    "    print(\"Yes, there is at least one match!\")\n",
    "else:\n",
    "    print(\"No match\")"
   ]
  },
  {
   "cell_type": "code",
   "execution_count": 293,
   "metadata": {},
   "outputs": [
    {
     "name": "stdout",
     "output_type": "stream",
     "text": [
      " A. \n"
     ]
    }
   ],
   "source": [
    "start = text.find(\"Joseph\")+ len(\"Joseph\") \n",
    "end = text.find(\"Lopez\")\n",
    "substring = text[start:end]\n",
    "print(substring)"
   ]
  }
 ],
 "metadata": {
  "kernelspec": {
   "display_name": "Python 3",
   "language": "python",
   "name": "python3"
  },
  "language_info": {
   "codemirror_mode": {
    "name": "ipython",
    "version": 3
   },
   "file_extension": ".py",
   "mimetype": "text/x-python",
   "name": "python",
   "nbconvert_exporter": "python",
   "pygments_lexer": "ipython3",
   "version": "3.8.3"
  }
 },
 "nbformat": 4,
 "nbformat_minor": 4
}
