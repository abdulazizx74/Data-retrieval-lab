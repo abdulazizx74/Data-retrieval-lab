{
 "cells": [
  {
   "cell_type": "code",
   "execution_count": 76,
   "metadata": {},
   "outputs": [
    {
     "name": "stderr",
     "output_type": "stream",
     "text": [
      "[nltk_data] Downloading package stopwords to\n",
      "[nltk_data]     C:\\Users\\Aziz\\AppData\\Roaming\\nltk_data...\n",
      "[nltk_data]   Package stopwords is already up-to-date!\n",
      "[nltk_data] Downloading package punkt to\n",
      "[nltk_data]     C:\\Users\\Aziz\\AppData\\Roaming\\nltk_data...\n",
      "[nltk_data]   Package punkt is already up-to-date!\n"
     ]
    }
   ],
   "source": [
    "import pandas as pd\n",
    "import numpy as np\n",
    "import nltk\n",
    "nltk.download('stopwords')\n",
    "nltk.download('punkt')\n",
    "from nltk.corpus import stopwords\n",
    "from nltk.tokenize import word_tokenize\n",
    "from nltk.stem import PorterStemmer\n",
    "import os\n",
    "import string\n",
    "import copy\n",
    "import pickle"
   ]
  },
  {
   "cell_type": "code",
   "execution_count": 77,
   "metadata": {},
   "outputs": [
    {
     "name": "stdout",
     "output_type": "stream",
     "text": [
      "C:\\mini_newsgroups/comp.graphics/\n"
     ]
    }
   ],
   "source": [
    "title = \"comp.graphics\"\n",
    "os.chdir(\"C:/mini_newsgroups\")\n",
    "paths = []\n",
    "for (dirpath, dirnames, filenames) in os.walk(str(os.getcwd())+'/'+title+'/'):\n",
    "    for i in filenames:\n",
    "        paths.append(str(dirpath)+str(\"\\\\\")+i)\n",
    "        \n",
    "print(dirpath)"
   ]
  },
  {
   "cell_type": "code",
   "execution_count": 78,
   "metadata": {},
   "outputs": [
    {
     "data": {
      "text/plain": [
       "'C:\\\\mini_newsgroups/comp.graphics/\\\\37916'"
      ]
     },
     "execution_count": 78,
     "metadata": {},
     "output_type": "execute_result"
    }
   ],
   "source": [
    "paths[0]"
   ]
  },
  {
   "cell_type": "code",
   "execution_count": 79,
   "metadata": {},
   "outputs": [
    {
     "data": {
      "text/plain": [
       "100"
      ]
     },
     "execution_count": 79,
     "metadata": {},
     "output_type": "execute_result"
    }
   ],
   "source": [
    "len(paths)"
   ]
  },
  {
   "cell_type": "markdown",
   "metadata": {},
   "source": [
    "# Exercise 1: What does the following representation mean?{23: [3, [0, 12, 28]]}\n",
    "23 = posting list\n",
    "\n",
    "3 = frequency post index\n",
    "\n",
    "0, 12, 28 = position"
   ]
  },
  {
   "cell_type": "markdown",
   "metadata": {},
   "source": [
    "# Exercise 2: Write a set of functions that is able to remove: stop words, punctuation, apostrophe, single characters, and header. In addition, you have to convert words into lowercase, stem the inter words and convert numbers to its equivalent words. (Hint: use the same functions that are in Lab06: unigram indexing)"
   ]
  },
  {
   "cell_type": "code",
   "execution_count": 80,
   "metadata": {},
   "outputs": [],
   "source": [
    "def preprocess(data, query):\n",
    "    if not query:\n",
    "        data = remove_header(data)\n",
    "        data = remove_single_characters(data)\n",
    "        data = remove_apostrophe(data)\n",
    "        data = convert_numbers(data)\n",
    "        data = stemming(data)\n",
    "        data = convert_lower_case(data)\n",
    "        data = remove_punctuation(data)\n",
    "        data = remove_stop_words(data)\n",
    "    return data"
   ]
  },
  {
   "cell_type": "code",
   "execution_count": 81,
   "metadata": {},
   "outputs": [],
   "source": [
    "def remove_header(data):\n",
    "    try:\n",
    "        ind = data.index('\\n\\n')\n",
    "        data = data[ind:]\n",
    "    except:\n",
    "        print(\"No Header\")\n",
    "    return data"
   ]
  },
  {
   "cell_type": "code",
   "execution_count": 82,
   "metadata": {},
   "outputs": [],
   "source": [
    "def remove_single_characters(data):\n",
    "    words = word_tokenize(str(data))\n",
    "    new_text = \"\"\n",
    "    for w in words:\n",
    "        if len(w) > 1:\n",
    "            new_text = new_text + \" \" + w\n",
    "    return np.char.strip(new_text)"
   ]
  },
  {
   "cell_type": "code",
   "execution_count": 83,
   "metadata": {},
   "outputs": [],
   "source": [
    "def remove_apostrophe(data):\n",
    "    return np.char.replace(data, \"'\", \"\")"
   ]
  },
  {
   "cell_type": "code",
   "execution_count": 84,
   "metadata": {},
   "outputs": [],
   "source": [
    "def convert_numbers(data):\n",
    "    data = np.char.replace(data, \"0\", \" zero \")\n",
    "    data = np.char.replace(data, \"1\", \" one \")\n",
    "    data = np.char.replace(data, \"2\", \" two \")\n",
    "    data = np.char.replace(data, \"3\", \" three \")\n",
    "    data = np.char.replace(data, \"4\", \" four \")\n",
    "    data = np.char.replace(data, \"5\", \" five \")\n",
    "    data = np.char.replace(data, \"6\", \" six \")\n",
    "    data = np.char.replace(data, \"7\", \" seven \")\n",
    "    data = np.char.replace(data, \"8\", \" eight \")\n",
    "    data = np.char.replace(data, \"9\", \" nine \")\n",
    "    return data"
   ]
  },
  {
   "cell_type": "code",
   "execution_count": 85,
   "metadata": {},
   "outputs": [],
   "source": [
    "def stemming(data):\n",
    "    stemmer= PorterStemmer()\n",
    "    tokens = word_tokenize(str(data))\n",
    "    new_text = \"\"\n",
    "    for w in tokens:\n",
    "        new_text = new_text + \" \" + stemmer.stem(w)\n",
    "    return np.char.strip(new_text)"
   ]
  },
  {
   "cell_type": "code",
   "execution_count": 86,
   "metadata": {},
   "outputs": [],
   "source": [
    "def convert_lower_case(data):\n",
    "    return np.char.lower(data)"
   ]
  },
  {
   "cell_type": "code",
   "execution_count": 87,
   "metadata": {},
   "outputs": [],
   "source": [
    "def remove_punctuation(data):\n",
    "    symbols = \"!\\\"#$%&()*+-./:;<=>?@[\\]^_`{|}~\\n\"\n",
    "    for i in range(len(symbols)):\n",
    "        data = np.char.replace(data, symbols[i], '')\n",
    "        data = np.char.replace(data, \" \", \" \")\n",
    "    data = np.char.replace(data, ',', '')\n",
    "    return data"
   ]
  },
  {
   "cell_type": "code",
   "execution_count": 88,
   "metadata": {},
   "outputs": [],
   "source": [
    "def remove_stop_words(data):\n",
    "    stop_words = stopwords.words('english')\n",
    "    words = word_tokenize(str(data))\n",
    "    new_text = \"\"\n",
    "    for w in words:\n",
    "        if w not in stop_words:\n",
    "            new_text = new_text + \" \" + w\n",
    "    return np.char.strip(new_text)"
   ]
  },
  {
   "cell_type": "code",
   "execution_count": 89,
   "metadata": {},
   "outputs": [
    {
     "name": "stdout",
     "output_type": "stream",
     "text": [
      "0\n"
     ]
    }
   ],
   "source": [
    "postings = pd.DataFrame()\n",
    "frequency = pd.DataFrame()\n",
    "doc = 0\n",
    "for path in paths:\n",
    "    file = open(path, 'r', encoding='cp1250')\n",
    "    text = file.read().strip()\n",
    "    file.close()\n",
    "    preprocessed_text = preprocess(text, False)\n",
    "    if doc%100 == 0:\n",
    "        print(doc)\n",
    "    tokens = word_tokenize(str(preprocessed_text))\n",
    "    \n",
    "    pos = 0\n",
    "    for token in tokens:\n",
    "        if token in postings:\n",
    "            p = postings[token][0]\n",
    "            \n",
    "            k = [a[0] for a in p]\n",
    "            if doc in k:\n",
    "                for a in p:\n",
    "                    if a[0] == doc:\n",
    "                        a[1].add(pos)\n",
    "            else:\n",
    "                p.append([doc,{pos}])\n",
    "                frequency[token][0] += 1\n",
    "        else:\n",
    "            postings.insert(value=[[[doc, {pos}]]], loc=0, column=token)\n",
    "            frequency.insert(value=[1], loc=0, column=token)\n",
    "            \n",
    "        pos += 1\n",
    "    doc += 1"
   ]
  },
  {
   "cell_type": "code",
   "execution_count": 90,
   "metadata": {},
   "outputs": [
    {
     "data": {
      "text/html": [
       "<div>\n",
       "<style scoped>\n",
       "    .dataframe tbody tr th:only-of-type {\n",
       "        vertical-align: middle;\n",
       "    }\n",
       "\n",
       "    .dataframe tbody tr th {\n",
       "        vertical-align: top;\n",
       "    }\n",
       "\n",
       "    .dataframe thead th {\n",
       "        text-align: right;\n",
       "    }\n",
       "</style>\n",
       "<table border=\"1\" class=\"dataframe\">\n",
       "  <thead>\n",
       "    <tr style=\"text-align: right;\">\n",
       "      <th></th>\n",
       "      <th>fontmong</th>\n",
       "      <th>lazer</th>\n",
       "      <th>rip</th>\n",
       "      <th>smirk</th>\n",
       "      <th>shop</th>\n",
       "      <th>nasti</th>\n",
       "      <th>undercut</th>\n",
       "      <th>ventur</th>\n",
       "      <th>pete</th>\n",
       "      <th>truetyp</th>\n",
       "      <th>...</th>\n",
       "      <th>simpl</th>\n",
       "      <th>sipp</th>\n",
       "      <th>call</th>\n",
       "      <th>routin</th>\n",
       "      <th>render</th>\n",
       "      <th>librari</th>\n",
       "      <th>describ</th>\n",
       "      <th>file</th>\n",
       "      <th>got</th>\n",
       "      <th>recent</th>\n",
       "    </tr>\n",
       "  </thead>\n",
       "  <tbody>\n",
       "    <tr>\n",
       "      <th>0</th>\n",
       "      <td>[[99, {100}]]</td>\n",
       "      <td>[[99, {94}]]</td>\n",
       "      <td>[[99, {83}]]</td>\n",
       "      <td>[[99, {74}]]</td>\n",
       "      <td>[[99, {73}]]</td>\n",
       "      <td>[[99, {65}]]</td>\n",
       "      <td>[[99, {61}]]</td>\n",
       "      <td>[[99, {60}]]</td>\n",
       "      <td>[[99, {39}]]</td>\n",
       "      <td>[[99, {57, 30, 78}]]</td>\n",
       "      <td>...</td>\n",
       "      <td>[[0, {9}], [1, {49}], [15, {8}], [17, {4146, 4...</td>\n",
       "      <td>[[0, {8, 29}]]</td>\n",
       "      <td>[[0, {7}], [5, {42}], [10, {72}], [17, {352, 3...</td>\n",
       "      <td>[[0, {33, 6}], [5, {128, 119}], [10, {13}], [1...</td>\n",
       "      <td>[[0, {32, 5}], [1, {27}], [17, {796}], [46, {1...</td>\n",
       "      <td>[[0, {4, 31}], [1, {16}], [5, {13}], [17, {409...</td>\n",
       "      <td>[[0, {3}], [17, {1233}], [64, {2270}], [65, {4...</td>\n",
       "      <td>[[0, {2}], [5, {147, 165}], [7, {17, 30}], [8,...</td>\n",
       "      <td>[[0, {1}], [29, {54}], [33, {60}], [37, {111}]...</td>\n",
       "      <td>[[0, {0}], [5, {164}], [13, {0}], [17, {5175}]...</td>\n",
       "    </tr>\n",
       "  </tbody>\n",
       "</table>\n",
       "<p>1 rows × 5237 columns</p>\n",
       "</div>"
      ],
      "text/plain": [
       "        fontmong         lazer           rip         smirk          shop  \\\n",
       "0  [[99, {100}]]  [[99, {94}]]  [[99, {83}]]  [[99, {74}]]  [[99, {73}]]   \n",
       "\n",
       "          nasti      undercut        ventur          pete  \\\n",
       "0  [[99, {65}]]  [[99, {61}]]  [[99, {60}]]  [[99, {39}]]   \n",
       "\n",
       "                truetyp  ...  \\\n",
       "0  [[99, {57, 30, 78}]]  ...   \n",
       "\n",
       "                                               simpl            sipp  \\\n",
       "0  [[0, {9}], [1, {49}], [15, {8}], [17, {4146, 4...  [[0, {8, 29}]]   \n",
       "\n",
       "                                                call  \\\n",
       "0  [[0, {7}], [5, {42}], [10, {72}], [17, {352, 3...   \n",
       "\n",
       "                                              routin  \\\n",
       "0  [[0, {33, 6}], [5, {128, 119}], [10, {13}], [1...   \n",
       "\n",
       "                                              render  \\\n",
       "0  [[0, {32, 5}], [1, {27}], [17, {796}], [46, {1...   \n",
       "\n",
       "                                             librari  \\\n",
       "0  [[0, {4, 31}], [1, {16}], [5, {13}], [17, {409...   \n",
       "\n",
       "                                             describ  \\\n",
       "0  [[0, {3}], [17, {1233}], [64, {2270}], [65, {4...   \n",
       "\n",
       "                                                file  \\\n",
       "0  [[0, {2}], [5, {147, 165}], [7, {17, 30}], [8,...   \n",
       "\n",
       "                                                 got  \\\n",
       "0  [[0, {1}], [29, {54}], [33, {60}], [37, {111}]...   \n",
       "\n",
       "                                              recent  \n",
       "0  [[0, {0}], [5, {164}], [13, {0}], [17, {5175}]...  \n",
       "\n",
       "[1 rows x 5237 columns]"
      ]
     },
     "execution_count": 90,
     "metadata": {},
     "output_type": "execute_result"
    }
   ],
   "source": [
    "postings"
   ]
  },
  {
   "cell_type": "code",
   "execution_count": 91,
   "metadata": {},
   "outputs": [
    {
     "data": {
      "text/html": [
       "<div>\n",
       "<style scoped>\n",
       "    .dataframe tbody tr th:only-of-type {\n",
       "        vertical-align: middle;\n",
       "    }\n",
       "\n",
       "    .dataframe tbody tr th {\n",
       "        vertical-align: top;\n",
       "    }\n",
       "\n",
       "    .dataframe thead th {\n",
       "        text-align: right;\n",
       "    }\n",
       "</style>\n",
       "<table border=\"1\" class=\"dataframe\">\n",
       "  <thead>\n",
       "    <tr style=\"text-align: right;\">\n",
       "      <th></th>\n",
       "      <th>fontmong</th>\n",
       "      <th>lazer</th>\n",
       "      <th>rip</th>\n",
       "      <th>smirk</th>\n",
       "      <th>shop</th>\n",
       "      <th>nasti</th>\n",
       "      <th>undercut</th>\n",
       "      <th>ventur</th>\n",
       "      <th>pete</th>\n",
       "      <th>truetyp</th>\n",
       "      <th>...</th>\n",
       "      <th>simpl</th>\n",
       "      <th>sipp</th>\n",
       "      <th>call</th>\n",
       "      <th>routin</th>\n",
       "      <th>render</th>\n",
       "      <th>librari</th>\n",
       "      <th>describ</th>\n",
       "      <th>file</th>\n",
       "      <th>got</th>\n",
       "      <th>recent</th>\n",
       "    </tr>\n",
       "  </thead>\n",
       "  <tbody>\n",
       "    <tr>\n",
       "      <th>0</th>\n",
       "      <td>1</td>\n",
       "      <td>1</td>\n",
       "      <td>1</td>\n",
       "      <td>1</td>\n",
       "      <td>1</td>\n",
       "      <td>1</td>\n",
       "      <td>1</td>\n",
       "      <td>1</td>\n",
       "      <td>1</td>\n",
       "      <td>1</td>\n",
       "      <td>...</td>\n",
       "      <td>7</td>\n",
       "      <td>1</td>\n",
       "      <td>9</td>\n",
       "      <td>9</td>\n",
       "      <td>12</td>\n",
       "      <td>14</td>\n",
       "      <td>6</td>\n",
       "      <td>25</td>\n",
       "      <td>12</td>\n",
       "      <td>7</td>\n",
       "    </tr>\n",
       "  </tbody>\n",
       "</table>\n",
       "<p>1 rows × 5237 columns</p>\n",
       "</div>"
      ],
      "text/plain": [
       "   fontmong  lazer  rip  smirk  shop  nasti  undercut  ventur  pete  truetyp  \\\n",
       "0         1      1    1      1     1      1         1       1     1        1   \n",
       "\n",
       "   ...  simpl  sipp  call  routin  render  librari  describ  file  got  recent  \n",
       "0  ...      7     1     9       9      12       14        6    25   12       7  \n",
       "\n",
       "[1 rows x 5237 columns]"
      ]
     },
     "execution_count": 91,
     "metadata": {},
     "output_type": "execute_result"
    }
   ],
   "source": [
    "frequency"
   ]
  },
  {
   "cell_type": "markdown",
   "metadata": {},
   "source": [
    "# Exercise3: explore posting list for a term and its frequency. Explain the output.\n",
    "ventur frequency post index is 99 and position is 60 and it frequency is 1"
   ]
  },
  {
   "cell_type": "code",
   "execution_count": 92,
   "metadata": {},
   "outputs": [
    {
     "data": {
      "text/plain": [
       "[[99, {60}]]"
      ]
     },
     "execution_count": 92,
     "metadata": {},
     "output_type": "execute_result"
    }
   ],
   "source": [
    "postings[\"ventur\"][0]"
   ]
  },
  {
   "cell_type": "code",
   "execution_count": 93,
   "metadata": {},
   "outputs": [
    {
     "data": {
      "text/plain": [
       "1"
      ]
     },
     "execution_count": 93,
     "metadata": {},
     "output_type": "execute_result"
    }
   ],
   "source": [
    "frequency[\"ventur\"][0]"
   ]
  },
  {
   "cell_type": "code",
   "execution_count": 94,
   "metadata": {},
   "outputs": [
    {
     "data": {
      "text/plain": [
       "[[99, {30, 57, 78}]]"
      ]
     },
     "execution_count": 94,
     "metadata": {},
     "output_type": "execute_result"
    }
   ],
   "source": [
    "postings[\"truetyp\"][0]"
   ]
  },
  {
   "cell_type": "code",
   "execution_count": 95,
   "metadata": {},
   "outputs": [
    {
     "data": {
      "text/plain": [
       "1"
      ]
     },
     "execution_count": 95,
     "metadata": {},
     "output_type": "execute_result"
    }
   ],
   "source": [
    "frequency[\"truetyp\"][0]"
   ]
  },
  {
   "cell_type": "code",
   "execution_count": 96,
   "metadata": {},
   "outputs": [
    {
     "data": {
      "text/plain": [
       "[[0, {7}],\n",
       " [5, {42}],\n",
       " [10, {72}],\n",
       " [17, {103, 245, 352, 3043, 3089, 4409, 5213}],\n",
       " [18, {41}],\n",
       " [64,\n",
       "  {134,\n",
       "   169,\n",
       "   734,\n",
       "   827,\n",
       "   860,\n",
       "   1356,\n",
       "   1893,\n",
       "   3602,\n",
       "   4260,\n",
       "   4269,\n",
       "   4453,\n",
       "   4457,\n",
       "   4461,\n",
       "   4997,\n",
       "   5403,\n",
       "   5418,\n",
       "   5624,\n",
       "   5950,\n",
       "   6331,\n",
       "   6478,\n",
       "   6588,\n",
       "   6760}],\n",
       " [66, {90}],\n",
       " [74, {4, 35}],\n",
       " [91, {3252, 3270, 3847, 4241, 6104}]]"
      ]
     },
     "execution_count": 96,
     "metadata": {},
     "output_type": "execute_result"
    }
   ],
   "source": [
    "postings[\"call\"][0]"
   ]
  },
  {
   "cell_type": "code",
   "execution_count": 97,
   "metadata": {},
   "outputs": [
    {
     "data": {
      "text/plain": [
       "9"
      ]
     },
     "execution_count": 97,
     "metadata": {},
     "output_type": "execute_result"
    }
   ],
   "source": [
    "frequency[\"call\"][0]"
   ]
  },
  {
   "cell_type": "code",
   "execution_count": 98,
   "metadata": {},
   "outputs": [],
   "source": [
    "postings.to_pickle(title + \"_positional_postings\")\n",
    "frequency.to_pickle(title + \"_positional_frequency\")"
   ]
  },
  {
   "cell_type": "code",
   "execution_count": 99,
   "metadata": {},
   "outputs": [],
   "source": [
    "postings = pd.read_pickle(title + \"_positional_postings\")"
   ]
  },
  {
   "cell_type": "code",
   "execution_count": 100,
   "metadata": {},
   "outputs": [],
   "source": [
    "frequency = pd.read_pickle(title + \"_positional_frequency\")"
   ]
  },
  {
   "cell_type": "markdown",
   "metadata": {},
   "source": [
    "# Exercise 4: What is the posting list of “not in”?\n",
    "here because \"not in\" does not exist i got this error"
   ]
  },
  {
   "cell_type": "code",
   "execution_count": 101,
   "metadata": {},
   "outputs": [
    {
     "ename": "KeyError",
     "evalue": "'not in'",
     "output_type": "error",
     "traceback": [
      "\u001b[1;31m---------------------------------------------------------------------------\u001b[0m",
      "\u001b[1;31mKeyError\u001b[0m                                  Traceback (most recent call last)",
      "\u001b[1;32m~\\anaconda3\\lib\\site-packages\\pandas\\core\\indexes\\base.py\u001b[0m in \u001b[0;36mget_loc\u001b[1;34m(self, key, method, tolerance)\u001b[0m\n\u001b[0;32m   2645\u001b[0m             \u001b[1;32mtry\u001b[0m\u001b[1;33m:\u001b[0m\u001b[1;33m\u001b[0m\u001b[1;33m\u001b[0m\u001b[0m\n\u001b[1;32m-> 2646\u001b[1;33m                 \u001b[1;32mreturn\u001b[0m \u001b[0mself\u001b[0m\u001b[1;33m.\u001b[0m\u001b[0m_engine\u001b[0m\u001b[1;33m.\u001b[0m\u001b[0mget_loc\u001b[0m\u001b[1;33m(\u001b[0m\u001b[0mkey\u001b[0m\u001b[1;33m)\u001b[0m\u001b[1;33m\u001b[0m\u001b[1;33m\u001b[0m\u001b[0m\n\u001b[0m\u001b[0;32m   2647\u001b[0m             \u001b[1;32mexcept\u001b[0m \u001b[0mKeyError\u001b[0m\u001b[1;33m:\u001b[0m\u001b[1;33m\u001b[0m\u001b[1;33m\u001b[0m\u001b[0m\n",
      "\u001b[1;32mpandas\\_libs\\index.pyx\u001b[0m in \u001b[0;36mpandas._libs.index.IndexEngine.get_loc\u001b[1;34m()\u001b[0m\n",
      "\u001b[1;32mpandas\\_libs\\index.pyx\u001b[0m in \u001b[0;36mpandas._libs.index.IndexEngine.get_loc\u001b[1;34m()\u001b[0m\n",
      "\u001b[1;32mpandas\\_libs\\hashtable_class_helper.pxi\u001b[0m in \u001b[0;36mpandas._libs.hashtable.PyObjectHashTable.get_item\u001b[1;34m()\u001b[0m\n",
      "\u001b[1;32mpandas\\_libs\\hashtable_class_helper.pxi\u001b[0m in \u001b[0;36mpandas._libs.hashtable.PyObjectHashTable.get_item\u001b[1;34m()\u001b[0m\n",
      "\u001b[1;31mKeyError\u001b[0m: 'not in'",
      "\nDuring handling of the above exception, another exception occurred:\n",
      "\u001b[1;31mKeyError\u001b[0m                                  Traceback (most recent call last)",
      "\u001b[1;32m<ipython-input-101-a25019f1e3e6>\u001b[0m in \u001b[0;36m<module>\u001b[1;34m\u001b[0m\n\u001b[1;32m----> 1\u001b[1;33m \u001b[0mpostings\u001b[0m\u001b[1;33m[\u001b[0m\u001b[1;34m\"not in\"\u001b[0m\u001b[1;33m]\u001b[0m\u001b[1;33m[\u001b[0m\u001b[1;36m0\u001b[0m\u001b[1;33m]\u001b[0m\u001b[1;33m\u001b[0m\u001b[1;33m\u001b[0m\u001b[0m\n\u001b[0m",
      "\u001b[1;32m~\\anaconda3\\lib\\site-packages\\pandas\\core\\frame.py\u001b[0m in \u001b[0;36m__getitem__\u001b[1;34m(self, key)\u001b[0m\n\u001b[0;32m   2798\u001b[0m             \u001b[1;32mif\u001b[0m \u001b[0mself\u001b[0m\u001b[1;33m.\u001b[0m\u001b[0mcolumns\u001b[0m\u001b[1;33m.\u001b[0m\u001b[0mnlevels\u001b[0m \u001b[1;33m>\u001b[0m \u001b[1;36m1\u001b[0m\u001b[1;33m:\u001b[0m\u001b[1;33m\u001b[0m\u001b[1;33m\u001b[0m\u001b[0m\n\u001b[0;32m   2799\u001b[0m                 \u001b[1;32mreturn\u001b[0m \u001b[0mself\u001b[0m\u001b[1;33m.\u001b[0m\u001b[0m_getitem_multilevel\u001b[0m\u001b[1;33m(\u001b[0m\u001b[0mkey\u001b[0m\u001b[1;33m)\u001b[0m\u001b[1;33m\u001b[0m\u001b[1;33m\u001b[0m\u001b[0m\n\u001b[1;32m-> 2800\u001b[1;33m             \u001b[0mindexer\u001b[0m \u001b[1;33m=\u001b[0m \u001b[0mself\u001b[0m\u001b[1;33m.\u001b[0m\u001b[0mcolumns\u001b[0m\u001b[1;33m.\u001b[0m\u001b[0mget_loc\u001b[0m\u001b[1;33m(\u001b[0m\u001b[0mkey\u001b[0m\u001b[1;33m)\u001b[0m\u001b[1;33m\u001b[0m\u001b[1;33m\u001b[0m\u001b[0m\n\u001b[0m\u001b[0;32m   2801\u001b[0m             \u001b[1;32mif\u001b[0m \u001b[0mis_integer\u001b[0m\u001b[1;33m(\u001b[0m\u001b[0mindexer\u001b[0m\u001b[1;33m)\u001b[0m\u001b[1;33m:\u001b[0m\u001b[1;33m\u001b[0m\u001b[1;33m\u001b[0m\u001b[0m\n\u001b[0;32m   2802\u001b[0m                 \u001b[0mindexer\u001b[0m \u001b[1;33m=\u001b[0m \u001b[1;33m[\u001b[0m\u001b[0mindexer\u001b[0m\u001b[1;33m]\u001b[0m\u001b[1;33m\u001b[0m\u001b[1;33m\u001b[0m\u001b[0m\n",
      "\u001b[1;32m~\\anaconda3\\lib\\site-packages\\pandas\\core\\indexes\\base.py\u001b[0m in \u001b[0;36mget_loc\u001b[1;34m(self, key, method, tolerance)\u001b[0m\n\u001b[0;32m   2646\u001b[0m                 \u001b[1;32mreturn\u001b[0m \u001b[0mself\u001b[0m\u001b[1;33m.\u001b[0m\u001b[0m_engine\u001b[0m\u001b[1;33m.\u001b[0m\u001b[0mget_loc\u001b[0m\u001b[1;33m(\u001b[0m\u001b[0mkey\u001b[0m\u001b[1;33m)\u001b[0m\u001b[1;33m\u001b[0m\u001b[1;33m\u001b[0m\u001b[0m\n\u001b[0;32m   2647\u001b[0m             \u001b[1;32mexcept\u001b[0m \u001b[0mKeyError\u001b[0m\u001b[1;33m:\u001b[0m\u001b[1;33m\u001b[0m\u001b[1;33m\u001b[0m\u001b[0m\n\u001b[1;32m-> 2648\u001b[1;33m                 \u001b[1;32mreturn\u001b[0m \u001b[0mself\u001b[0m\u001b[1;33m.\u001b[0m\u001b[0m_engine\u001b[0m\u001b[1;33m.\u001b[0m\u001b[0mget_loc\u001b[0m\u001b[1;33m(\u001b[0m\u001b[0mself\u001b[0m\u001b[1;33m.\u001b[0m\u001b[0m_maybe_cast_indexer\u001b[0m\u001b[1;33m(\u001b[0m\u001b[0mkey\u001b[0m\u001b[1;33m)\u001b[0m\u001b[1;33m)\u001b[0m\u001b[1;33m\u001b[0m\u001b[1;33m\u001b[0m\u001b[0m\n\u001b[0m\u001b[0;32m   2649\u001b[0m         \u001b[0mindexer\u001b[0m \u001b[1;33m=\u001b[0m \u001b[0mself\u001b[0m\u001b[1;33m.\u001b[0m\u001b[0mget_indexer\u001b[0m\u001b[1;33m(\u001b[0m\u001b[1;33m[\u001b[0m\u001b[0mkey\u001b[0m\u001b[1;33m]\u001b[0m\u001b[1;33m,\u001b[0m \u001b[0mmethod\u001b[0m\u001b[1;33m=\u001b[0m\u001b[0mmethod\u001b[0m\u001b[1;33m,\u001b[0m \u001b[0mtolerance\u001b[0m\u001b[1;33m=\u001b[0m\u001b[0mtolerance\u001b[0m\u001b[1;33m)\u001b[0m\u001b[1;33m\u001b[0m\u001b[1;33m\u001b[0m\u001b[0m\n\u001b[0;32m   2650\u001b[0m         \u001b[1;32mif\u001b[0m \u001b[0mindexer\u001b[0m\u001b[1;33m.\u001b[0m\u001b[0mndim\u001b[0m \u001b[1;33m>\u001b[0m \u001b[1;36m1\u001b[0m \u001b[1;32mor\u001b[0m \u001b[0mindexer\u001b[0m\u001b[1;33m.\u001b[0m\u001b[0msize\u001b[0m \u001b[1;33m>\u001b[0m \u001b[1;36m1\u001b[0m\u001b[1;33m:\u001b[0m\u001b[1;33m\u001b[0m\u001b[1;33m\u001b[0m\u001b[0m\n",
      "\u001b[1;32mpandas\\_libs\\index.pyx\u001b[0m in \u001b[0;36mpandas._libs.index.IndexEngine.get_loc\u001b[1;34m()\u001b[0m\n",
      "\u001b[1;32mpandas\\_libs\\index.pyx\u001b[0m in \u001b[0;36mpandas._libs.index.IndexEngine.get_loc\u001b[1;34m()\u001b[0m\n",
      "\u001b[1;32mpandas\\_libs\\hashtable_class_helper.pxi\u001b[0m in \u001b[0;36mpandas._libs.hashtable.PyObjectHashTable.get_item\u001b[1;34m()\u001b[0m\n",
      "\u001b[1;32mpandas\\_libs\\hashtable_class_helper.pxi\u001b[0m in \u001b[0;36mpandas._libs.hashtable.PyObjectHashTable.get_item\u001b[1;34m()\u001b[0m\n",
      "\u001b[1;31mKeyError\u001b[0m: 'not in'"
     ]
    }
   ],
   "source": [
    "postings[\"not in\"][0]"
   ]
  },
  {
   "cell_type": "markdown",
   "metadata": {},
   "source": [
    "# Exercise5. For the whole collection given by theinstructor, build the positional index and find frequency for each term appears in collection!"
   ]
  },
  {
   "cell_type": "code",
   "execution_count": 102,
   "metadata": {},
   "outputs": [],
   "source": [
    "def get_word_postings(word):\n",
    "    preprocessed_word = str(preprocess(word, True))\n",
    "    print(preprocessed_word)\n",
    "    print(\"Frequency:\",frequency[preprocessed_word][0])\n",
    "    print(\"Postings List:\",postings[preprocessed_word][0])"
   ]
  },
  {
   "cell_type": "code",
   "execution_count": 103,
   "metadata": {},
   "outputs": [],
   "source": [
    "def get_positions(posting_values, doc):\n",
    "    for posting_value in posting_values:\n",
    "        if posting_value[0] == doc:\n",
    "            return posting_value[1]\n",
    "    return {}"
   ]
  },
  {
   "cell_type": "code",
   "execution_count": 104,
   "metadata": {},
   "outputs": [],
   "source": [
    "def gen_init_set_matchings(word):\n",
    "    init = []\n",
    "    word_postings = postings[word][0]\n",
    "    for word_posting in word_postings:\n",
    "        for positions in word_posting[1]:\n",
    "            init.append((word_posting[0], positions))\n",
    "    return init"
   ]
  },
  {
   "cell_type": "code",
   "execution_count": 105,
   "metadata": {},
   "outputs": [],
   "source": [
    "def match_positional_index(init, b):\n",
    "    matched_docs = []\n",
    "    for p in init:\n",
    "        doc = p[0]\n",
    "        pos = p[1]\n",
    "\n",
    "        count = 0\n",
    "\n",
    "        for k in b:\n",
    "            pos = pos+1\n",
    "            k_pos = postings[k][0]\n",
    "            docs_list = [z[0] for z in k_pos]\n",
    "            if doc in docs_list:\n",
    "                doc_positions = get_positions(k_pos, doc)\n",
    "                if pos in doc_positions:\n",
    "                    count += 1\n",
    "                else:\n",
    "                    count += 1\n",
    "                    break\n",
    "\n",
    "            if count == len(b):\n",
    "                matched_docs.append(p[0])\n",
    "    return set(matched_docs)   "
   ]
  },
  {
   "cell_type": "code",
   "execution_count": 106,
   "metadata": {},
   "outputs": [],
   "source": [
    "def run_query(query):\n",
    "    processed_query = preprocess(query, True)\n",
    "    print(processed_query)\n",
    "\n",
    "    query_tokens = word_tokenize(str(processed_query))\n",
    "    print(query_tokens)\n",
    "    \n",
    "    if len(query_tokens)==1:\n",
    "        print(\"Total Document Mathces\", [a[0] for a in postings[query][0]])\n",
    "        return [a[0] for a in postings[query][0]]\n",
    "    \n",
    "    init_word = query_tokens[0]\n",
    "    init_matches = gen_init_set_matchings(init_word)\n",
    "\n",
    "    query_tokens.pop(0)\n",
    "    total_matched_docs = match_positional_index(init_matches, query_tokens)\n",
    "    print(\"Total Document Matches:\", total_matched_docs)\n",
    "    return total_matched_docs"
   ]
  },
  {
   "cell_type": "code",
   "execution_count": 107,
   "metadata": {},
   "outputs": [
    {
     "name": "stdout",
     "output_type": "stream",
     "text": [
      "simpl\n",
      "Frequency: 7\n",
      "Postings List: [[0, {9}], [1, {49}], [15, {8}], [17, {4146, 4660, 996, 4458}], [37, {762}], [64, {5502}], [91, {5633, 1499, 6065, 1647}]]\n"
     ]
    }
   ],
   "source": [
    "get_word_postings(\"simpl\")"
   ]
  },
  {
   "cell_type": "code",
   "execution_count": 108,
   "metadata": {},
   "outputs": [
    {
     "name": "stdout",
     "output_type": "stream",
     "text": [
      "ventur  undercut\n",
      "['ventur', 'undercut']\n",
      "Total Document Matches: {99}\n"
     ]
    }
   ],
   "source": [
    "query = \"ventur  undercut\"\n",
    "lists = run_query(query)"
   ]
  },
  {
   "cell_type": "code",
   "execution_count": 109,
   "metadata": {},
   "outputs": [
    {
     "name": "stdout",
     "output_type": "stream",
     "text": [
      "        fontmong         lazer           rip         smirk          shop  \\\n",
      "0  [[99, {100}]]  [[99, {94}]]  [[99, {83}]]  [[99, {74}]]  [[99, {73}]]   \n",
      "\n",
      "          nasti      undercut        ventur          pete  \\\n",
      "0  [[99, {65}]]  [[99, {61}]]  [[99, {60}]]  [[99, {39}]]   \n",
      "\n",
      "                truetyp  ...  \\\n",
      "0  [[99, {57, 30, 78}]]  ...   \n",
      "\n",
      "                                               simpl            sipp  \\\n",
      "0  [[0, {9}], [1, {49}], [15, {8}], [17, {4146, 4...  [[0, {8, 29}]]   \n",
      "\n",
      "                                                call  \\\n",
      "0  [[0, {7}], [5, {42}], [10, {72}], [17, {352, 3...   \n",
      "\n",
      "                                              routin  \\\n",
      "0  [[0, {33, 6}], [5, {128, 119}], [10, {13}], [1...   \n",
      "\n",
      "                                              render  \\\n",
      "0  [[0, {32, 5}], [1, {27}], [17, {796}], [46, {1...   \n",
      "\n",
      "                                             librari  \\\n",
      "0  [[0, {4, 31}], [1, {16}], [5, {13}], [17, {409...   \n",
      "\n",
      "                                             describ  \\\n",
      "0  [[0, {3}], [17, {1233}], [64, {2270}], [65, {4...   \n",
      "\n",
      "                                                file  \\\n",
      "0  [[0, {2}], [5, {147, 165}], [7, {17, 30}], [8,...   \n",
      "\n",
      "                                                 got  \\\n",
      "0  [[0, {1}], [29, {54}], [33, {60}], [37, {111}]...   \n",
      "\n",
      "                                              recent  \n",
      "0  [[0, {0}], [5, {164}], [13, {0}], [17, {5175}]...  \n",
      "\n",
      "[1 rows x 5237 columns]\n",
      "['fontmong', 'lazer', 'rip', 'smirk', 'shop', '\\\\', '0', '[', '[', '99', ',', '{', '100', '}', ']', ']', '[', '[', '99', ',', '{', '94', '}', ']', ']', '[', '[', '99', ',', '{', '83', '}', ']', ']', '[', '[', '99', ',', '{', '74', '}', ']', ']', '[', '[', '99', ',', '{', '73', '}', ']', ']', 'nasti', 'undercut', 'ventur', 'pete', '\\\\', '0', '[', '[', '99', ',', '{', '65', '}', ']', ']', '[', '[', '99', ',', '{', '61', '}', ']', ']', '[', '[', '99', ',', '{', '60', '}', ']', ']', '[', '[', '99', ',', '{', '39', '}', ']', ']', 'truetyp', '...', '\\\\', '0', '[', '[', '99', ',', '{', '57', ',', '30', ',', '78', '}', ']', ']', '...', 'simpl', 'sipp', '\\\\', '0', '[', '[', '0', ',', '{', '9', '}', ']', ',', '[', '1', ',', '{', '49', '}', ']', ',', '[', '15', ',', '{', '8', '}', ']', ',', '[', '17', ',', '{', '4146', ',', '4', '...', '[', '[', '0', ',', '{', '8', ',', '29', '}', ']', ']', 'call', '\\\\', '0', '[', '[', '0', ',', '{', '7', '}', ']', ',', '[', '5', ',', '{', '42', '}', ']', ',', '[', '10', ',', '{', '72', '}', ']', ',', '[', '17', ',', '{', '352', ',', '3', '...', 'routin', '\\\\', '0', '[', '[', '0', ',', '{', '33', ',', '6', '}', ']', ',', '[', '5', ',', '{', '128', ',', '119', '}', ']', ',', '[', '10', ',', '{', '13', '}', ']', ',', '[', '1', '...', 'render', '\\\\', '0', '[', '[', '0', ',', '{', '32', ',', '5', '}', ']', ',', '[', '1', ',', '{', '27', '}', ']', ',', '[', '17', ',', '{', '796', '}', ']', ',', '[', '46', ',', '{', '1', '...', 'librari', '\\\\', '0', '[', '[', '0', ',', '{', '4', ',', '31', '}', ']', ',', '[', '1', ',', '{', '16', '}', ']', ',', '[', '5', ',', '{', '13', '}', ']', ',', '[', '17', ',', '{', '409', '...', 'describ', '\\\\', '0', '[', '[', '0', ',', '{', '3', '}', ']', ',', '[', '17', ',', '{', '1233', '}', ']', ',', '[', '64', ',', '{', '2270', '}', ']', ',', '[', '65', ',', '{', '4', '...', 'file', '\\\\', '0', '[', '[', '0', ',', '{', '2', '}', ']', ',', '[', '5', ',', '{', '147', ',', '165', '}', ']', ',', '[', '7', ',', '{', '17', ',', '30', '}', ']', ',', '[', '8', ',', '...', 'got', '\\\\', '0', '[', '[', '0', ',', '{', '1', '}', ']', ',', '[', '29', ',', '{', '54', '}', ']', ',', '[', '33', ',', '{', '60', '}', ']', ',', '[', '37', ',', '{', '111', '}', ']', '...', 'recent', '0', '[', '[', '0', ',', '{', '0', '}', ']', ',', '[', '5', ',', '{', '164', '}', ']', ',', '[', '13', ',', '{', '0', '}', ']', ',', '[', '17', ',', '{', '5175', '}', ']', '...', '[', '1', 'rows', 'x', '5237', 'columns', ']']\n",
      "Total Document Matches: set()\n"
     ]
    }
   ],
   "source": [
    "query = postings\n",
    "lists = run_query(query)"
   ]
  }
 ],
 "metadata": {
  "kernelspec": {
   "display_name": "Python 3",
   "language": "python",
   "name": "python3"
  },
  "language_info": {
   "codemirror_mode": {
    "name": "ipython",
    "version": 3
   },
   "file_extension": ".py",
   "mimetype": "text/x-python",
   "name": "python",
   "nbconvert_exporter": "python",
   "pygments_lexer": "ipython3",
   "version": "3.8.3"
  }
 },
 "nbformat": 4,
 "nbformat_minor": 4
}
